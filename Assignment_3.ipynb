{
 "cells": [
  {
   "cell_type": "markdown",
   "id": "a52e2e43-c578-48c5-9260-80ec78ef0cf0",
   "metadata": {},
   "source": [
    "1. Why are functions advantageous to have in your programs?\n",
    "---> Functions promote code reuse, improve readability and maintainability, facilitate testing and debugging, enhance code organization, and support collaboration among team members."
   ]
  },
  {
   "cell_type": "markdown",
   "id": "b43a7732-792b-40bc-b050-6c33d22a3596",
   "metadata": {},
   "source": [
    "2. When does the code in a function run: when it's specified or when it's called?"
   ]
  },
  {
   "cell_type": "code",
   "execution_count": 1,
   "id": "bedc2ac0-7bf8-49f4-87bc-af90cd680718",
   "metadata": {},
   "outputs": [
    {
     "name": "stdout",
     "output_type": "stream",
     "text": [
      "Please go for run\n"
     ]
    }
   ],
   "source": [
    "def run():  # Function Specified\n",
    "    print(\"Please go for run\")\n",
    "    \n",
    "run() # funtion called"
   ]
  },
  {
   "cell_type": "markdown",
   "id": "e5d16506-4b28-4b72-b39d-bd1d310c7b3a",
   "metadata": {},
   "source": [
    "3. What statement creates a function?\n",
    "---> \"def\" statement used to create a function"
   ]
  },
  {
   "cell_type": "markdown",
   "id": "2449359a-4e92-467f-9876-5d0e6503092a",
   "metadata": {},
   "source": [
    "# Example..\n",
    "def function_name(parameter1, parameter2, ....):"
   ]
  },
  {
   "cell_type": "markdown",
   "id": "6d2474e1-3fb7-4e87-b307-11f6b2bf3a99",
   "metadata": {},
   "source": [
    "4. What is the difference between a function and a function call?\n",
    "---> Function can be declared/defined once but we can call function is any point of time while \n",
    "     writing any code once it is defined."
   ]
  },
  {
   "cell_type": "markdown",
   "id": "9774f091-39b8-48b8-9aac-740b7bf7f364",
   "metadata": {},
   "source": [
    "5. How many global scopes are there in a Python program? How many local scopes?\n",
    "---> Global scope is only one and local scopes are multiple"
   ]
  },
  {
   "cell_type": "markdown",
   "id": "fee6af46-8588-4461-a023-b0ba6cbcc631",
   "metadata": {},
   "source": [
    "6. What happens to variables in a local scope when the function call returns?\n",
    "---> When the function call returns the local scope won't be valide after return of any function."
   ]
  },
  {
   "cell_type": "markdown",
   "id": "74c27818-61e7-47a5-89e6-0227bc161577",
   "metadata": {},
   "source": [
    "7. What is the concept of a return value? Is it possible to have a return value in an expression?\n",
    "---> when u call a function it will use it's return value to be used and Yes, we can use return values in an expression."
   ]
  },
  {
   "cell_type": "markdown",
   "id": "07eaad7e-826d-439a-9626-952dd12b4925",
   "metadata": {},
   "source": [
    "8. If a function does not have a return statement, what is the return value of a call to that function?\n",
    "---> if there is no return statement is the function the code will run but when the function will be called it will give output as     'None'"
   ]
  },
  {
   "cell_type": "markdown",
   "id": "e345b63c-5be2-44cb-b4a2-80fdbc7a3ebb",
   "metadata": {},
   "source": [
    "9. How do you make a function variable refer to the global variable?\n",
    "---> by using global function."
   ]
  },
  {
   "cell_type": "markdown",
   "id": "4027f93b-3573-4932-a464-635cf45f7075",
   "metadata": {},
   "source": [
    "10. What is the data type of None?\n",
    "---> None is used to specify value where we used to denote the absence of a value."
   ]
  },
  {
   "cell_type": "markdown",
   "id": "63b26159-7e12-4a7f-b4bc-d585bc21ef72",
   "metadata": {},
   "source": [
    "11. What does the sentence import areallyourpetsnamederic do?\n",
    "---> It is not a valide import in python. areallyourpetsnamederic is not a valid module or package"
   ]
  },
  {
   "cell_type": "markdown",
   "id": "0c46e641-296a-4ca1-a89a-d0e9e782e38b",
   "metadata": {},
   "source": [
    "12. If you had a bacon() feature in a spam module, what would you call it after importing spam?\n",
    "---> import spam\n",
    "     spam.bacon()"
   ]
  },
  {
   "cell_type": "markdown",
   "id": "39471cb2-29bb-4469-9e3a-20398297ff36",
   "metadata": {},
   "source": [
    "13. What can you do to save a programme from crashing if it encounters an error?\n",
    "---> we can use try-except blocks to catch and handle exceptions that will help to save a programme from crashing if it encounters an error."
   ]
  },
  {
   "cell_type": "markdown",
   "id": "af2dbb6a-4251-4955-8469-f26b41d3ab03",
   "metadata": {},
   "source": [
    "14. What is the purpose of the try clause? What is the purpose of the except clause?\n",
    "---> try:  code that might raise an exception\n",
    "     except: code to handle the exception.\n",
    "     \n",
    "Example:"
   ]
  },
  {
   "cell_type": "code",
   "execution_count": 3,
   "id": "2e89177e-0d89-4ed5-9556-da1fabd834bf",
   "metadata": {},
   "outputs": [
    {
     "name": "stdin",
     "output_type": "stream",
     "text": [
      "Enter a number:  5\n",
      "Enter another number:  0\n"
     ]
    },
    {
     "name": "stdout",
     "output_type": "stream",
     "text": [
      "Error: Cannot divide by zero\n"
     ]
    }
   ],
   "source": [
    "try:\n",
    "    num1 = int(input(\"Enter a number: \"))\n",
    "    num2 = int(input(\"Enter another number: \"))\n",
    "    result = num1 / num2\n",
    "    print(\"Result:\", result)\n",
    "except ZeroDivisionError:\n",
    "    print(\"Error: Cannot divide by zero\")\n",
    "except ValueError:\n",
    "    print(\"Error: Invalid input\")"
   ]
  },
  {
   "cell_type": "code",
   "execution_count": null,
   "id": "271a63a4-49de-4b77-987f-1a891dbbd7ea",
   "metadata": {},
   "outputs": [],
   "source": []
  }
 ],
 "metadata": {
  "kernelspec": {
   "display_name": "Python 3 (ipykernel)",
   "language": "python",
   "name": "python3"
  },
  "language_info": {
   "codemirror_mode": {
    "name": "ipython",
    "version": 3
   },
   "file_extension": ".py",
   "mimetype": "text/x-python",
   "name": "python",
   "nbconvert_exporter": "python",
   "pygments_lexer": "ipython3",
   "version": "3.10.6"
  }
 },
 "nbformat": 4,
 "nbformat_minor": 5
}
