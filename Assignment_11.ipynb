{
 "cells": [
  {
   "cell_type": "markdown",
   "id": "0ff08ff6-9e75-44d5-b2f0-c8ceaf544c41",
   "metadata": {},
   "source": [
    "1. What is the role of the 'else' block in a try-except statement? Provide an example\n",
    "   scenario where it would be useful.\n",
    "   \n",
    "---> \n",
    "The 'else' block in a try-except statement is optional and serves as a code block that gets executed when there are no exceptions raised inside the 'try' block. If no exceptions occur, the 'else' block will be executed immediately after the 'try' block finishes."
   ]
  },
  {
   "cell_type": "code",
   "execution_count": 1,
   "id": "ea4534a3-d6c4-4229-b722-84709cdcacb0",
   "metadata": {},
   "outputs": [
    {
     "name": "stdout",
     "output_type": "stream",
     "text": [
      "The result of division is: 5.0\n",
      "Cannot divide by zero.\n"
     ]
    }
   ],
   "source": [
    "def divide_numbers(a, b):\n",
    "    try:\n",
    "        result = a / b\n",
    "    except ZeroDivisionError:\n",
    "        print(\"Cannot divide by zero.\")\n",
    "    else:\n",
    "        print(f\"The result of division is: {result}\")\n",
    "\n",
    "# Test the divide_numbers function\n",
    "divide_numbers(10, 2)\n",
    "divide_numbers(15, 0)"
   ]
  },
  {
   "cell_type": "markdown",
   "id": "5e7ae990-8cf8-4d45-9bb9-e50212891762",
   "metadata": {},
   "source": [
    "2. Can a try-except block be nested inside another try-except block? Explain with an\n",
    "   example.\n",
    "   \n",
    "---> Yes, a try-except block can be nested inside another try-except block. This is known as nested exception handling, and it allows for handling different types of exceptions at different levels of the program."
   ]
  },
  {
   "cell_type": "code",
   "execution_count": 2,
   "id": "9abcd694-ef60-46d7-a34b-c2f855758fba",
   "metadata": {},
   "outputs": [
    {
     "name": "stdout",
     "output_type": "stream",
     "text": [
      "The result of division is: 5.0\n",
      "Error occurred: Cannot divide by zero.\n"
     ]
    }
   ],
   "source": [
    "def divide_numbers(a, b):\n",
    "    try:\n",
    "        try:\n",
    "            result = a / b\n",
    "        except ZeroDivisionError:\n",
    "            raise ValueError(\"Cannot divide by zero.\")\n",
    "    except ValueError as ve:\n",
    "        print(f\"Error occurred: {ve}\")\n",
    "    else:\n",
    "        print(f\"The result of division is: {result}\")\n",
    "\n",
    "# Test the divide_numbers function\n",
    "divide_numbers(10, 2)\n",
    "divide_numbers(15, 0)"
   ]
  },
  {
   "cell_type": "markdown",
   "id": "b66dc780-7ec8-4087-aa74-fb2a5ecd34f2",
   "metadata": {},
   "source": [
    "3. How can you create a custom exception class in Python? Provide an example that\n",
    "   demonstrates its usage.\n",
    "   \n",
    "---> You can create a custom exception class in Python by defining a new class that inherits from the built-in Exception class or any of its subclasses. By creating a custom exception class, you can raise and handle specific types of exceptions that are meaningful for your application."
   ]
  },
  {
   "cell_type": "code",
   "execution_count": 7,
   "id": "3d7771e3-8e59-46c8-83ab-f2c6f5ee4f81",
   "metadata": {},
   "outputs": [
    {
     "name": "stdin",
     "output_type": "stream",
     "text": [
      "Enter your age:  4d4e\n"
     ]
    },
    {
     "name": "stdout",
     "output_type": "stream",
     "text": [
      "Invalid input. Please enter a valid number.\n"
     ]
    }
   ],
   "source": [
    "class CustomError(Exception):\n",
    "    def __init__(self, message):\n",
    "        self.message = message\n",
    "        super().__init__(self.message)\n",
    "\n",
    "def validate_age(age):\n",
    "    if age < 0:\n",
    "        raise CustomError(\"Age cannot be negative.\")\n",
    "    elif age < 18:\n",
    "        raise CustomError(\"You must be at least 18 years old.\")\n",
    "\n",
    "try:\n",
    "    age = int(input(\"Enter your age: \"))\n",
    "    validate_age(age)\n",
    "    print(\"Access granted. You are old enough.\")\n",
    "except ValueError:\n",
    "    print(\"Invalid input. Please enter a valid number.\")\n",
    "except CustomError as ce:\n",
    "    print(f\"Error: {ce}\")"
   ]
  },
  {
   "cell_type": "markdown",
   "id": "25e4bc9d-ca5a-4d77-a00f-ff7284454b44",
   "metadata": {},
   "source": [
    "4. What are some common exceptions that are built-in to Python?\n",
    "\n",
    "---> Python has several built-in exceptions that cover a wide range of potential errors and exceptional situations. Some common built-in exceptions in Python include:\n",
    "\n",
    "SyntaxError, TypeError, NameError, IndexError, KeyError, ValueError, ZeroDivisionError, FileNotFoundError, ImportError, AssertionError, AttributeError, OverflowError, RuntimeError, TypeError"
   ]
  },
  {
   "cell_type": "markdown",
   "id": "51ce9e07-bf54-4f09-8d49-4f26fad9702f",
   "metadata": {},
   "source": [
    "5. What is logging in Python, and why is it important in software development?\n",
    "\n",
    "---> Logging in Python is a mechanism that allows developers to record and save messages, warnings, errors, and other information during the execution of a program. It is an essential part of software development as it provides a systematic way to monitor and troubleshoot the application's behavior. The Python logging module provides a flexible and configurable framework for implementing logging in Python programs."
   ]
  },
  {
   "cell_type": "markdown",
   "id": "3ee01964-d4ca-4685-8418-b25b9d127e13",
   "metadata": {},
   "source": [
    "6. Explain the purpose of log levels in Python logging and provide examples of when\n",
    "   each log level would be appropriate.\n",
    "   \n",
    "---> In Python logging, log levels are used to categorize the severity of log messages. The logging module defines several standard log levels, each with its specific purpose. These log levels allow developers to control which messages get recorded based on their importance and severity. The log levels, in increasing order of severity, are as follows:\n",
    "\n",
    "DEBUG: The lowest log level used for detailed debugging information. It is typically used during development and debugging to provide detailed insights into the program's flow and variable values.\n",
    "\n",
    "INFO: This log level provides general information about the application's execution. It is useful for recording significant events or milestones during the program's execution.\n",
    "\n",
    "WARNING: The WARNING log level is used to indicate potential issues or situations that may cause problems in the future but don't necessarily disrupt the application's flow.\n",
    "\n",
    "ERROR: The ERROR log level indicates that an unexpected situation has occurred that could lead to the failure of a specific operation or the entire application.\n",
    "\n",
    "CRITICAL: The highest log level that signifies a severe error or critical failure that may cause the application to crash or stop functioning altogether."
   ]
  },
  {
   "cell_type": "code",
   "execution_count": 8,
   "id": "6e53fac2-10cf-450b-9904-dc66fe323f01",
   "metadata": {},
   "outputs": [
    {
     "name": "stderr",
     "output_type": "stream",
     "text": [
      "DEBUG:root:This is a debug message.\n"
     ]
    }
   ],
   "source": [
    "import logging\n",
    "\n",
    "logging.basicConfig(level=logging.DEBUG)\n",
    "\n",
    "def some_function():\n",
    "    logging.debug(\"This is a debug message.\")\n",
    "    # Some code for debugging here\n",
    "\n",
    "some_function()"
   ]
  },
  {
   "cell_type": "code",
   "execution_count": 9,
   "id": "426ff3df-79fb-4c1c-b024-16177fbed217",
   "metadata": {},
   "outputs": [
    {
     "name": "stderr",
     "output_type": "stream",
     "text": [
      "INFO:root:Application started.\n"
     ]
    }
   ],
   "source": [
    "import logging\n",
    "\n",
    "logging.basicConfig(level=logging.INFO)\n",
    "\n",
    "def main():\n",
    "    logging.info(\"Application started.\")\n",
    "    # Some code here\n",
    "\n",
    "main()"
   ]
  },
  {
   "cell_type": "code",
   "execution_count": 10,
   "id": "ab1e7508-2848-4309-a51b-41d75d952f41",
   "metadata": {},
   "outputs": [
    {
     "name": "stderr",
     "output_type": "stream",
     "text": [
      "WARNING:root:This is a warning message.\n"
     ]
    }
   ],
   "source": [
    "import logging\n",
    "\n",
    "logging.basicConfig(level=logging.WARNING)\n",
    "\n",
    "def some_function():\n",
    "    # Some code here that may raise a warning\n",
    "    logging.warning(\"This is a warning message.\")\n",
    "    # More code\n",
    "\n",
    "some_function()"
   ]
  },
  {
   "cell_type": "code",
   "execution_count": 11,
   "id": "ff83ccb0-53f7-49a8-a480-014cfdd7c8f8",
   "metadata": {},
   "outputs": [
    {
     "name": "stderr",
     "output_type": "stream",
     "text": [
      "ERROR:root:An error occurred: An error occurred.\n"
     ]
    }
   ],
   "source": [
    "import logging\n",
    "\n",
    "logging.basicConfig(level=logging.ERROR)\n",
    "\n",
    "def some_function():\n",
    "    # Some code here that may raise an error\n",
    "    try:\n",
    "        # Some operation that may raise an exception\n",
    "        raise ValueError(\"An error occurred.\")\n",
    "    except ValueError as e:\n",
    "        logging.error(f\"An error occurred: {e}\")\n",
    "        # More code\n",
    "\n",
    "some_function()"
   ]
  },
  {
   "cell_type": "code",
   "execution_count": 12,
   "id": "9e7f24ce-8aaf-4b29-be50-b1f80b26cfa7",
   "metadata": {},
   "outputs": [
    {
     "name": "stderr",
     "output_type": "stream",
     "text": [
      "CRITICAL:root:Critical error: A critical error occurred.\n"
     ]
    }
   ],
   "source": [
    "import logging\n",
    "\n",
    "logging.basicConfig(level=logging.CRITICAL)\n",
    "\n",
    "def some_function():\n",
    "    # Some code here that may raise a critical error\n",
    "    try:\n",
    "        # Some operation that may raise an exception\n",
    "        raise RuntimeError(\"A critical error occurred.\")\n",
    "    except RuntimeError as e:\n",
    "        logging.critical(f\"Critical error: {e}\")\n",
    "        # More code\n",
    "\n",
    "some_function()"
   ]
  },
  {
   "cell_type": "markdown",
   "id": "9443a0dc-4f5f-433b-b57c-a3a00e016471",
   "metadata": {},
   "source": [
    "7. What are log formatters in Python logging, and how can you customise the log\n",
    "   message format using formatters?\n",
    "   \n",
    "---> Log formatters in Python logging are used to define the format of log messages generated by the logging module. They allow developers to customize the structure of log messages, including the information contained in each log record. This customization includes elements such as log level, timestamp, logger name, message, and more.\n",
    "The commonly used placeholders are:\n",
    "\n",
    "%s: The log message itself.\n",
    "%levelname: The log level name (e.g., DEBUG, INFO, ERROR, etc.).\n",
    "%asctime: The timestamp of the log record in human-readable format.\n",
    "%name: The name of the logger that generated the log record.\n",
    "%pathname: The full pathname of the source file where the log record was created.\n",
    "%lineno: The line number in the source file where the log record was created.\n",
    "%funcname: The name of the function where the log record was created."
   ]
  },
  {
   "cell_type": "code",
   "execution_count": 13,
   "id": "87373c2a-46a7-4b15-819e-1225268595df",
   "metadata": {},
   "outputs": [
    {
     "name": "stderr",
     "output_type": "stream",
     "text": [
      "2023-07-16 07:57:21,672 - DEBUG - This is a debug message.\n",
      "DEBUG:custom_logger:This is a debug message.\n",
      "2023-07-16 07:57:21,674 - INFO - This is an info message.\n",
      "INFO:custom_logger:This is an info message.\n",
      "2023-07-16 07:57:21,676 - WARNING - This is a warning message.\n",
      "WARNING:custom_logger:This is a warning message.\n",
      "2023-07-16 07:57:21,677 - ERROR - This is an error message.\n",
      "ERROR:custom_logger:This is an error message.\n",
      "2023-07-16 07:57:21,678 - CRITICAL - This is a critical message.\n",
      "CRITICAL:custom_logger:This is a critical message.\n"
     ]
    }
   ],
   "source": [
    "import logging\n",
    "\n",
    "logging.basicConfig(level=logging.DEBUG)\n",
    "\n",
    "# Create a formatter with a custom log message format\n",
    "formatter = logging.Formatter('%(asctime)s - %(levelname)s - %(message)s')\n",
    "\n",
    "# Create a handler and set the formatter for the handler\n",
    "handler = logging.StreamHandler()\n",
    "handler.setFormatter(formatter)\n",
    "\n",
    "# Create a logger and add the handler to the logger\n",
    "logger = logging.getLogger('custom_logger')\n",
    "logger.addHandler(handler)\n",
    "\n",
    "# Log messages with different log levels\n",
    "logger.debug('This is a debug message.')\n",
    "logger.info('This is an info message.')\n",
    "logger.warning('This is a warning message.')\n",
    "logger.error('This is an error message.')\n",
    "logger.critical('This is a critical message.')"
   ]
  },
  {
   "cell_type": "markdown",
   "id": "7bc184a1-746a-446e-bd1f-34cc8ef76eb1",
   "metadata": {},
   "source": [
    "8. How can you set up logging to capture log messages from multiple modules or\n",
    "   classes in a Python application?\n",
    "   \n",
    "---> To set up logging to capture log messages from multiple modules or classes in a Python application, you can follow these steps:\n",
    "\n",
    "Create a logger: Define a logger for each module or class that needs to log messages. You can create logger instances using the logging.getLogger() method and give each logger a unique name. This allows you to identify the source of log messages.\n",
    "\n",
    "Configure the logger: Set the log level and handlers for each logger. The log level determines the minimum severity level of log messages that will be captured. Handlers determine where the log messages are outputted, such as to the console or a file.\n",
    "\n",
    "Add handlers to the logger: Attach one or more handlers to each logger to specify how and where log messages should be recorded."
   ]
  },
  {
   "cell_type": "markdown",
   "id": "b23265ba-e81a-4e3e-b48a-dc4ae9573159",
   "metadata": {},
   "source": [
    "9. What is the difference between the logging and print statements in Python? When\n",
    "   should you use logging over print statements in a real-world application?\n",
    "   \n",
    "---> Logging is a more powerful and flexible mechanism for handling program output, especially in real-world applications. It offers various log levels, allows for log formatting, and can route logs to different destinations. On the other hand, print statements are handy for quick debugging but lack the advanced features needed for comprehensive logging and log management in complex applications. For professional software development, it's best to use the logging module to maintain a structured and maintainable logging system."
   ]
  },
  {
   "cell_type": "markdown",
   "id": "725be5a3-de1c-4ae0-bb4e-c9800b35a625",
   "metadata": {},
   "source": [
    "10. Write a Python program that logs a message to a file named \"app.log\" with the\n",
    "    following requirements:\n",
    "● The log message should be \"Hello, World!\"\n",
    "● The log level should be set to \"INFO.\"\n",
    "● The log file should append new log entries without overwriting previous ones."
   ]
  },
  {
   "cell_type": "code",
   "execution_count": 14,
   "id": "25d70fe6-3ea1-4ecb-8d79-1f3dace5c4c1",
   "metadata": {},
   "outputs": [
    {
     "name": "stderr",
     "output_type": "stream",
     "text": [
      "INFO:my_app:Hello, World!\n"
     ]
    }
   ],
   "source": [
    "import logging\n",
    "\n",
    "def setup_logging():\n",
    "    # Create a logger\n",
    "    logger = logging.getLogger('my_app')\n",
    "    logger.setLevel(logging.INFO)\n",
    "\n",
    "    # Create a file handler\n",
    "    log_file = 'app.log'\n",
    "    file_handler = logging.FileHandler(log_file)\n",
    "\n",
    "    # Create a formatter\n",
    "    formatter = logging.Formatter('%(asctime)s - %(levelname)s - %(message)s')\n",
    "\n",
    "    # Set the formatter for the file handler\n",
    "    file_handler.setFormatter(formatter)\n",
    "\n",
    "    # Add the file handler to the logger\n",
    "    logger.addHandler(file_handler)\n",
    "\n",
    "    return logger\n",
    "\n",
    "def main():\n",
    "    # Set up logging\n",
    "    logger = setup_logging()\n",
    "\n",
    "    # Log the message\n",
    "    logger.info('Hello, World!')\n",
    "\n",
    "if __name__ == '__main__':\n",
    "    main()"
   ]
  },
  {
   "cell_type": "markdown",
   "id": "594675e2-8d52-4997-a772-9d54740dae25",
   "metadata": {},
   "source": [
    "11. Create a Python program that logs an error message to the console and a file named\n",
    "    \"errors.log\" if an exception occurs during the program's execution. The error\n",
    "    message should include the exception type and a timestamp."
   ]
  },
  {
   "cell_type": "code",
   "execution_count": null,
   "id": "2a3227a4-35b2-4acb-9621-5270db75c0b5",
   "metadata": {},
   "outputs": [],
   "source": []
  }
 ],
 "metadata": {
  "kernelspec": {
   "display_name": "Python 3 (ipykernel)",
   "language": "python",
   "name": "python3"
  },
  "language_info": {
   "codemirror_mode": {
    "name": "ipython",
    "version": 3
   },
   "file_extension": ".py",
   "mimetype": "text/x-python",
   "name": "python",
   "nbconvert_exporter": "python",
   "pygments_lexer": "ipython3",
   "version": "3.10.6"
  }
 },
 "nbformat": 4,
 "nbformat_minor": 5
}
