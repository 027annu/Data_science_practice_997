{
 "cells": [
  {
   "cell_type": "markdown",
   "id": "849f5e56-cdc2-47ad-9e6b-edb3fbe09aa7",
   "metadata": {},
   "source": [
    "1. What is the role of try and exception block?\n",
    "---> The try and except blocks in Python are used for error handling and to handle exceptions that may occur during the execution of a program. The try block is used to enclose the code that may potentially raise an exception, while the except block is used to handle the raised exception."
   ]
  },
  {
   "cell_type": "markdown",
   "id": "54a7e9c0-6bb4-4403-b6bd-9412573ac41f",
   "metadata": {},
   "source": [
    "2. What is the syntax for a basic try-except block?"
   ]
  },
  {
   "cell_type": "code",
   "execution_count": null,
   "id": "6e9289f8-0322-4fcd-a1e8-a897f6b37ee9",
   "metadata": {},
   "outputs": [],
   "source": [
    "try:\n",
    "    # Code that may raise an exception\n",
    "    # ...\n",
    "except ExceptionType:\n",
    "    # Code to handle the specific exception\n",
    "    # ..."
   ]
  },
  {
   "cell_type": "markdown",
   "id": "8f45dfac-e6ff-4f2f-b5eb-d6bae87f621f",
   "metadata": {},
   "source": [
    "3. What happens if an exception occurs inside a try block and there is no matching\n",
    "   except block?\n",
    "---> If an exception occurs inside a try block and there is no matching except block to handle that exception, the exception will propagate up the call stack until it is caught by an outer try-except block, or if there is no outer try-except block, the program will terminate with an error message."
   ]
  },
  {
   "cell_type": "markdown",
   "id": "a29ae785-9d55-49f1-960b-b1abe853a802",
   "metadata": {},
   "source": [
    "4. What is the difference between using a bare except block and specifying a specific\n",
    "   exception type?\n",
    "---> A bare except block does not specify a particular exception type and a specific except block does specify a particular exception type."
   ]
  },
  {
   "cell_type": "code",
   "execution_count": null,
   "id": "d25027d2-852f-4375-aac3-e4628eeccb31",
   "metadata": {},
   "outputs": [],
   "source": [
    "# Example of bare except block\n",
    "try:\n",
    "    # Code that may raise exceptions\n",
    "    # ...\n",
    "except:\n",
    "    # Code to handle any exception\n",
    "    # ..."
   ]
  },
  {
   "cell_type": "code",
   "execution_count": null,
   "id": "6ad21eb5-dbc0-4c5b-aa83-b48b78f71d8a",
   "metadata": {},
   "outputs": [],
   "source": [
    "# Example of specifying a specific exception\n",
    "try:\n",
    "    # Code that may raise exceptions\n",
    "    # ...\n",
    "except ValueError:\n",
    "    # Code to handle ValueError exception\n",
    "    # ...\n",
    "except ZeroDivisionError:\n",
    "    # Code to handle ZeroDivisionError exception\n",
    "    # ..."
   ]
  },
  {
   "cell_type": "markdown",
   "id": "004c0b02-209b-43e1-b66f-04505e313f6b",
   "metadata": {},
   "source": [
    "5. Can you have nested try-except blocks in Python? If yes, then give an example.\n",
    "---> Yes."
   ]
  },
  {
   "cell_type": "code",
   "execution_count": 1,
   "id": "f1a68b77-e83f-4621-a58a-a1d6291b50fc",
   "metadata": {},
   "outputs": [
    {
     "name": "stdin",
     "output_type": "stream",
     "text": [
      "Enter a number:  5\n",
      "Enter another number:  0\n"
     ]
    },
    {
     "name": "stdout",
     "output_type": "stream",
     "text": [
      "Error: Cannot divide by zero.\n"
     ]
    }
   ],
   "source": [
    "try:\n",
    "    # Outer try block\n",
    "    outer_number = int(input(\"Enter a number: \"))\n",
    "    try:\n",
    "        # Inner try block\n",
    "        inner_number = int(input(\"Enter another number: \"))\n",
    "        result = outer_number / inner_number\n",
    "        print(\"Result:\", result)\n",
    "    except ValueError:\n",
    "        print(\"Error: Invalid input. Please enter a valid number.\")\n",
    "    except ZeroDivisionError:\n",
    "        print(\"Error: Cannot divide by zero.\")\n",
    "except ValueError:\n",
    "    print(\"Error: Invalid input. Please enter a valid number.\")"
   ]
  },
  {
   "cell_type": "markdown",
   "id": "ae230b30-da52-4075-80b1-178611dcf31f",
   "metadata": {},
   "source": [
    "6. Can we use multiple exception blocks, if yes then give an example.\n",
    "---> Yes."
   ]
  },
  {
   "cell_type": "code",
   "execution_count": 3,
   "id": "a7069640-fdc4-4bcd-9e26-2c96c99b4742",
   "metadata": {},
   "outputs": [
    {
     "name": "stdin",
     "output_type": "stream",
     "text": [
      "Please enter no1: 5\n",
      "Please enter no2: 6.84\n"
     ]
    },
    {
     "name": "stdout",
     "output_type": "stream",
     "text": [
      "You are trying to divide your number with decimal value\n"
     ]
    }
   ],
   "source": [
    "try:\n",
    "    x = int(input(\"Please enter no1:\"))\n",
    "    y = int(input(\"Please enter no2:\"))\n",
    "    result = x / y\n",
    "    print (\"results\", result)\n",
    "    \n",
    "    \n",
    "except ZeroDivisionError:\n",
    "    print(\"You are trying to divide your number with Zero\")\n",
    "    \n",
    "except ValueError:\n",
    "    print(\"You are trying to divide your number with decimal value\")"
   ]
  },
  {
   "cell_type": "markdown",
   "id": "006caaec-dc9f-4b56-9ad5-ce42ca2fea31",
   "metadata": {},
   "source": [
    "7. Write the reason due to which following errors are raised:\n",
    "a. EOFError : It typically occurs when attempting to read input from a source that has reached the end.\n",
    "b. FloatingPointError : It can occur due to various reasons, such as dividing by zero, taking the square root of a negative number, or performing other invalid mathematical operations with floating-point numbers.\n",
    "c. IndexError : It occurs when trying to access an element using an index that is either negative or greater than or equal to the length of the sequence.\n",
    "d. MemoryError : It occurs when the system's available memory is fully utilized, and there is no more space to accommodate the requested memory allocation.\n",
    "e. OverflowError : It typically occurs when performing arithmetic operations that exceed the limits of the integer or floating-point data types.\n",
    "f. TabError : It occurs when Python encounters indentation-related errors.\n",
    "g. ValueError : It occurs when attempting to perform operations with values that are not suitable for the specific operation."
   ]
  },
  {
   "cell_type": "markdown",
   "id": "df8e3b2f-4c34-48ff-b832-6e7090ee48e1",
   "metadata": {},
   "source": [
    "8. Write code for the following given scenario and add try-exception block to it.\n",
    "a. Program to divide two numbers\n",
    "b. Program to convert a string to an integer\n",
    "c. Program to access an element in a list\n",
    "d. Program to handle a specific exception\n",
    "e. Program to handle any exception"
   ]
  },
  {
   "cell_type": "code",
   "execution_count": 15,
   "id": "0d90da55-2fd2-4543-a6b1-af12a8d3325b",
   "metadata": {},
   "outputs": [
    {
     "name": "stdin",
     "output_type": "stream",
     "text": [
      "Please enter no1: 6\n",
      "Please enter no2: 0\n"
     ]
    },
    {
     "name": "stdout",
     "output_type": "stream",
     "text": [
      "You are trying to divide your number with Zero\n"
     ]
    }
   ],
   "source": [
    "#  Program to divide two numbers\n",
    "try:\n",
    "    x = int(input(\"Please enter no1:\"))\n",
    "    y = int(input(\"Please enter no2:\"))\n",
    "    result = x / y\n",
    "    print (\"results\", result)\n",
    "except ZeroDivisionError:\n",
    "    print(\"You are trying to divide your number with Zero\")"
   ]
  },
  {
   "cell_type": "code",
   "execution_count": 9,
   "id": "d2602e3e-712a-4f97-b709-a60a2518d787",
   "metadata": {},
   "outputs": [
    {
     "name": "stdin",
     "output_type": "stream",
     "text": [
      "Enter a number:  5\n"
     ]
    },
    {
     "name": "stdout",
     "output_type": "stream",
     "text": [
      "Number: 5\n"
     ]
    }
   ],
   "source": [
    "# Program to convert a string to an integer\n",
    "try:\n",
    "    num_str = input(\"Enter a number: \")\n",
    "    num = int(num_str)\n",
    "    print(\"Number:\", num)\n",
    "except ValueError:\n",
    "    print(\"Error: Invalid input. Please enter a valid integer.\")"
   ]
  },
  {
   "cell_type": "code",
   "execution_count": 11,
   "id": "1b39494f-f833-4a6a-be5f-aa4e4908522c",
   "metadata": {},
   "outputs": [
    {
     "name": "stdin",
     "output_type": "stream",
     "text": [
      "Enter the index:  8\n"
     ]
    },
    {
     "name": "stdout",
     "output_type": "stream",
     "text": [
      "Error: Index is out of range.\n"
     ]
    }
   ],
   "source": [
    "# Program to access an element in a list\n",
    "try:\n",
    "    my_list = [1, 2, 3, 4, 5]\n",
    "    index = int(input(\"Enter the index: \"))\n",
    "    element = my_list[index]\n",
    "    print(\"Element:\", element)\n",
    "except IndexError:\n",
    "    print(\"Error: Index is out of range.\")"
   ]
  },
  {
   "cell_type": "code",
   "execution_count": 12,
   "id": "00a28645-2672-487e-a044-e47056de480b",
   "metadata": {},
   "outputs": [
    {
     "name": "stdout",
     "output_type": "stream",
     "text": [
      "Error: Cannot divide by zero.\n"
     ]
    }
   ],
   "source": [
    "# rogram to handle a specific exception\n",
    "try:\n",
    "    x = 10\n",
    "    y = 0\n",
    "    result = x / y\n",
    "    print(\"Result:\", result)\n",
    "except ZeroDivisionError:\n",
    "    print(\"Error: Cannot divide by zero.\")"
   ]
  },
  {
   "cell_type": "code",
   "execution_count": 14,
   "id": "175b8ab8-68d3-4362-a041-a17db34225f8",
   "metadata": {},
   "outputs": [],
   "source": [
    "# Program to handle any exception\n",
    "try:\n",
    "    # Code that may raise exceptions\n",
    "    pass\n",
    "except Exception as e:\n",
    "    print(\"An exception occurred:\", str(e))"
   ]
  }
 ],
 "metadata": {
  "kernelspec": {
   "display_name": "Python 3 (ipykernel)",
   "language": "python",
   "name": "python3"
  },
  "language_info": {
   "codemirror_mode": {
    "name": "ipython",
    "version": 3
   },
   "file_extension": ".py",
   "mimetype": "text/x-python",
   "name": "python",
   "nbconvert_exporter": "python",
   "pygments_lexer": "ipython3",
   "version": "3.10.6"
  }
 },
 "nbformat": 4,
 "nbformat_minor": 5
}
