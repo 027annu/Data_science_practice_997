{
 "cells": [
  {
   "cell_type": "markdown",
   "id": "01a20102-8bc0-4d51-895d-ffcdb2cab6b2",
   "metadata": {},
   "source": [
    "1. What are keywords in python? Using the keyword library, print all the python keywords.\n",
    "---> Keywords are those words which is used by python and can't be used as indentifiers."
   ]
  },
  {
   "cell_type": "code",
   "execution_count": 1,
   "id": "998ad23e-c26e-418d-86ab-9a791459c2fb",
   "metadata": {},
   "outputs": [
    {
     "name": "stdout",
     "output_type": "stream",
     "text": [
      "['False', 'None', 'True', 'and', 'as', 'assert', 'async', 'await', 'break', 'class', 'continue', 'def', 'del', 'elif', 'else', 'except', 'finally', 'for', 'from', 'global', 'if', 'import', 'in', 'is', 'lambda', 'nonlocal', 'not', 'or', 'pass', 'raise', 'return', 'try', 'while', 'with', 'yield']\n"
     ]
    }
   ],
   "source": [
    "import keyword\n",
    "print(keyword.kwlist)"
   ]
  },
  {
   "cell_type": "markdown",
   "id": "6f4e0881-d5aa-4876-b3f6-3cd305b66934",
   "metadata": {},
   "source": [
    "2. What are the rules to create variables in python?\n",
    "---> It should not start with numbers.\n",
    "---> It should not contain any special character excpet '_'\n",
    "---> we should not use reserved keywords."
   ]
  },
  {
   "cell_type": "markdown",
   "id": "8fd72caf-3f38-4bd1-958c-90e0f831d51d",
   "metadata": {},
   "source": [
    "3. What are the standards and conventions followed for the nomenclature of variables in\n",
    "   python to improve code readability and maintainability?\n",
    "---> The standards and conventions followed for variable naming in Python aim to improve code readability and maintainability. \n",
    "---> Use descriptive names, Avoid single letter names, Be consistent with style, Avoid unnecessary abbreviations, Avoid using keywords."
   ]
  },
  {
   "cell_type": "markdown",
   "id": "21997813-3b1b-49d1-86aa-ba0071e6bff6",
   "metadata": {},
   "source": [
    "4. What will happen if a keyword is used as a variable name?\n",
    "---> if keyword is used as a variable name it will throw an invalid syntax error."
   ]
  },
  {
   "cell_type": "markdown",
   "id": "d6536437-6276-49eb-b8c0-5732fcf68fc9",
   "metadata": {},
   "source": [
    "5. For what purpose def keyword is used?\n",
    "---> def keyword is used to define a function."
   ]
  },
  {
   "cell_type": "markdown",
   "id": "ddaf2792-6f84-451e-8b1e-b9d507ce41ea",
   "metadata": {},
   "source": [
    "6. What is the operation of this special character ‘\\’?\n",
    "---> '\\' is a escape charater, which is used to represent certain special characters or sequences within strings or other literals."
   ]
  },
  {
   "cell_type": "markdown",
   "id": "21e22107-0d3c-498d-aea7-1acca2c4bcf6",
   "metadata": {},
   "source": [
    "7. Give an example of the following conditions:\n",
    "(i) Homogeneous list\n",
    "(ii) Heterogeneous set\n",
    "(iii) Homogeneous tuple"
   ]
  },
  {
   "cell_type": "code",
   "execution_count": 2,
   "id": "5d9811c3-9d3f-4b60-bd10-5304cc6a108b",
   "metadata": {},
   "outputs": [],
   "source": [
    "# Homogeneous list\n",
    "my_list = [1,2,3,4,5]\n",
    "\n",
    "# Heterogeneous set\n",
    "my_set = {1, 'apple', 3.14, True}\n",
    "\n",
    "# Homogeneous tuple\n",
    "my_tup = ('apple', 'banana', 'orange', 'kiwi')"
   ]
  },
  {
   "cell_type": "markdown",
   "id": "c75ecd86-ea7d-41d1-94ba-2cdc6ecd6f1b",
   "metadata": {},
   "source": [
    "8. Explain the mutable and immutable data types with proper explanation & examples.\n",
    "---> Mutable data types means it can be edited at any point of time in a code. example: list and dictionary\n",
    "---> Immutable data type means it can't be edited once it is declared. example: Tuple"
   ]
  },
  {
   "cell_type": "code",
   "execution_count": 3,
   "id": "afcb1a62-d081-4af1-ad77-71b3781a3a43",
   "metadata": {},
   "outputs": [],
   "source": [
    "coordinates = (3, 4)\n",
    "# coordinates[0] = 2  # This will raise a TypeError since tuples are immutable\n",
    "new_coordinates = (2,) + coordinates[1:]  # Creates a new tuple (2, 4)"
   ]
  },
  {
   "cell_type": "code",
   "execution_count": 4,
   "id": "a0d46cb0-0da1-4e9f-883d-c460ba1c3225",
   "metadata": {},
   "outputs": [
    {
     "data": {
      "text/plain": [
       "[1, 5, 4]"
      ]
     },
     "execution_count": 4,
     "metadata": {},
     "output_type": "execute_result"
    }
   ],
   "source": [
    "numbers = [1, 2, 3]\n",
    "numbers[1] = 5  # Modifies the second element of the list\n",
    "numbers.append(4)  # Adds a new element to the end of the list\n",
    "numbers.remove(3)  # Removes the element with value 3 from the list\n",
    "numbers"
   ]
  },
  {
   "cell_type": "markdown",
   "id": "4f3eb4ca-85cd-4fcc-bce2-914621aafd12",
   "metadata": {},
   "source": [
    "9. Write a code to create the given structure using only for loop.\n",
    "*\n",
    "***\n",
    "*****\n",
    "*******\n",
    "*********"
   ]
  },
  {
   "cell_type": "code",
   "execution_count": 7,
   "id": "4bed4917-751c-4aa3-9d82-a14da6880282",
   "metadata": {},
   "outputs": [
    {
     "name": "stdout",
     "output_type": "stream",
     "text": [
      "*\n",
      "***\n",
      "*****\n",
      "*******\n",
      "*********\n"
     ]
    }
   ],
   "source": [
    "n = 5\n",
    "\n",
    "for i in range(n):\n",
    "    for j in range(2 * i + 1):\n",
    "        print(\"*\", end=\"\")\n",
    "    print()"
   ]
  },
  {
   "cell_type": "markdown",
   "id": "909db895-c051-49fd-a732-24792e71ae3c",
   "metadata": {},
   "source": [
    "10. Write a code to create the given structure using while loop.\n",
    "|||||||||\n",
    "|||||||\n",
    "|||||\n",
    "|||\n",
    "|"
   ]
  },
  {
   "cell_type": "code",
   "execution_count": 17,
   "id": "15611ba7-b83f-4e17-a3cf-c891fb4e05f6",
   "metadata": {},
   "outputs": [
    {
     "name": "stdout",
     "output_type": "stream",
     "text": [
      "|||||||||\n",
      "|||||||\n",
      "|||||\n",
      "|||\n",
      "|\n"
     ]
    }
   ],
   "source": [
    "n = 9\n",
    "while n > 0:\n",
    "    print(\"|\" * n )\n",
    "    n -= 2"
   ]
  }
 ],
 "metadata": {
  "kernelspec": {
   "display_name": "Python 3 (ipykernel)",
   "language": "python",
   "name": "python3"
  },
  "language_info": {
   "codemirror_mode": {
    "name": "ipython",
    "version": 3
   },
   "file_extension": ".py",
   "mimetype": "text/x-python",
   "name": "python",
   "nbconvert_exporter": "python",
   "pygments_lexer": "ipython3",
   "version": "3.10.6"
  }
 },
 "nbformat": 4,
 "nbformat_minor": 5
}
