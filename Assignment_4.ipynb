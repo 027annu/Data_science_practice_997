{
 "cells": [
  {
   "cell_type": "markdown",
   "id": "ce24e219-2871-4e86-91ce-300651023d35",
   "metadata": {},
   "source": [
    "1. What exactly is []?\n",
    "--->  [] & list() means same, [] indicates a list. "
   ]
  },
  {
   "cell_type": "markdown",
   "id": "bd7ed8cf-34c5-4e6b-81f3-ccbbf0f281e3",
   "metadata": {},
   "source": [
    "2. In a list of values stored in a variable called spam, how would you assign the value 'hello' as the\n",
    "   third value? (Assume [2, 4, 6, 8, 10] are in spam.)\n",
    "---> spam[2]='hello'"
   ]
  },
  {
   "cell_type": "code",
   "execution_count": 2,
   "id": "5336f65e-9d58-461a-879e-29b4a24fa510",
   "metadata": {},
   "outputs": [
    {
     "data": {
      "text/plain": [
       "[2, 4, 'hello', 8, 10]"
      ]
     },
     "execution_count": 2,
     "metadata": {},
     "output_type": "execute_result"
    }
   ],
   "source": [
    "spam = [2, 4, 6, 8, 10]\n",
    "spam[2]='hello'\n",
    "spam"
   ]
  },
  {
   "cell_type": "markdown",
   "id": "577f1587-e123-412e-a58c-cf5585ab0617",
   "metadata": {},
   "source": [
    "Let's pretend the spam includes the list ['a','b','c','d'] for the next three queries.\n",
    "3. What is the value of spam[int(int('3' * 2) / 11)]?  ---> 'd'\n",
    "4. What is the value of spam[-1]?  ---> 'd'\n",
    "5. What is the value of spam[:2]?  ---> ['a','b']"
   ]
  },
  {
   "cell_type": "code",
   "execution_count": 3,
   "id": "1dec36ae-56f7-4442-b403-09eaec427909",
   "metadata": {},
   "outputs": [],
   "source": [
    "spam =['a','b','c','d'] "
   ]
  },
  {
   "cell_type": "code",
   "execution_count": 4,
   "id": "1a4465ab-beb2-4c89-a089-5c4a1396ca04",
   "metadata": {},
   "outputs": [
    {
     "data": {
      "text/plain": [
       "'d'"
      ]
     },
     "execution_count": 4,
     "metadata": {},
     "output_type": "execute_result"
    }
   ],
   "source": [
    "spam[int(int('3' * 2) / 11)]"
   ]
  },
  {
   "cell_type": "code",
   "execution_count": 8,
   "id": "bb6dad5a-3ba2-407f-8c9a-051b864744d0",
   "metadata": {},
   "outputs": [
    {
     "data": {
      "text/plain": [
       "'d'"
      ]
     },
     "execution_count": 8,
     "metadata": {},
     "output_type": "execute_result"
    }
   ],
   "source": [
    "spam[-1]"
   ]
  },
  {
   "cell_type": "code",
   "execution_count": 9,
   "id": "15c53de0-e35a-44c3-85f8-757bee83eb58",
   "metadata": {},
   "outputs": [
    {
     "data": {
      "text/plain": [
       "['a', 'b']"
      ]
     },
     "execution_count": 9,
     "metadata": {},
     "output_type": "execute_result"
    }
   ],
   "source": [
    "spam[:2]"
   ]
  },
  {
   "cell_type": "markdown",
   "id": "2a6e595f-32de-4a1e-abe7-d422a06db46c",
   "metadata": {},
   "source": [
    "Let's pretend bacon has the list [3.14,'cat', 11, 'cat', True] for the next three questions.\n",
    "6. What is the value of bacon.index('cat')?  ---> 1\n",
    "7. How does bacon.append(99) change the look of the list value in bacon?  ---> [3.14, 'cat', 11, 'cat', True, 99] \n",
    "8. How does bacon.remove('cat') change the look of the list in bacon?  ---> [3.14, 11, 'cat', True, 99]"
   ]
  },
  {
   "cell_type": "code",
   "execution_count": 21,
   "id": "9e19c6d8-b1ce-49b7-8dbd-92b6ab711614",
   "metadata": {},
   "outputs": [],
   "source": [
    "bacon = [3.14,'cat', 11, 'cat', True]"
   ]
  },
  {
   "cell_type": "code",
   "execution_count": 22,
   "id": "2808a76c-e895-4f74-8f2f-d7c25459b5c7",
   "metadata": {},
   "outputs": [
    {
     "data": {
      "text/plain": [
       "1"
      ]
     },
     "execution_count": 22,
     "metadata": {},
     "output_type": "execute_result"
    }
   ],
   "source": [
    "bacon.index('cat') # shows the index value of variables"
   ]
  },
  {
   "cell_type": "code",
   "execution_count": 23,
   "id": "457247df-0b76-4598-b92b-8ece606f216f",
   "metadata": {},
   "outputs": [
    {
     "data": {
      "text/plain": [
       "[3.14, 'cat', 11, 'cat', True, 99]"
      ]
     },
     "execution_count": 23,
     "metadata": {},
     "output_type": "execute_result"
    }
   ],
   "source": [
    "bacon.append(99) # added ne value in list\n",
    "bacon"
   ]
  },
  {
   "cell_type": "code",
   "execution_count": 24,
   "id": "1663b181-d8cf-4dc0-8bf4-96c9ab99233a",
   "metadata": {},
   "outputs": [
    {
     "data": {
      "text/plain": [
       "[3.14, 11, 'cat', True, 99]"
      ]
     },
     "execution_count": 24,
     "metadata": {},
     "output_type": "execute_result"
    }
   ],
   "source": [
    "bacon.remove('cat') # it is remove 1st 'cat' find from list\n",
    "bacon"
   ]
  },
  {
   "cell_type": "markdown",
   "id": "e39fe68c-e574-4331-b829-996ef95b2a48",
   "metadata": {},
   "source": [
    "9. What are the list concatenation and list replication operators?\n",
    "---> List concatenation means added two or more list in a single list.\n",
    "---> List replication means repeating same set of data present in the list two or more then 2 times in a single list."
   ]
  },
  {
   "cell_type": "markdown",
   "id": "55e1ab9d-5734-4857-b383-25f1233a46af",
   "metadata": {},
   "source": [
    "10. What is difference between the list methods append() and insert()?\n",
    "---> append() means to add a value at the end of a list.\n",
    "---> insert() means to add a value in a specific position within a list.\n",
    "Example:"
   ]
  },
  {
   "cell_type": "code",
   "execution_count": 25,
   "id": "27d69872-c6ca-4520-83e1-efae04cee4d0",
   "metadata": {},
   "outputs": [
    {
     "data": {
      "text/plain": [
       "[3.14, 'cat', 11, 'cat', True, 1]"
      ]
     },
     "execution_count": 25,
     "metadata": {},
     "output_type": "execute_result"
    }
   ],
   "source": [
    "bacon = [3.14,'cat', 11, 'cat', True]\n",
    "bacon.append(1)\n",
    "bacon"
   ]
  },
  {
   "cell_type": "code",
   "execution_count": 26,
   "id": "260007da-2c65-43b1-a376-db7677b293ef",
   "metadata": {},
   "outputs": [
    {
     "data": {
      "text/plain": [
       "[3.14, 7, 'cat', 11, 'cat', True]"
      ]
     },
     "execution_count": 26,
     "metadata": {},
     "output_type": "execute_result"
    }
   ],
   "source": [
    "bacon = [3.14,'cat', 11, 'cat', True]\n",
    "bacon.insert(1,7)\n",
    "bacon"
   ]
  },
  {
   "cell_type": "markdown",
   "id": "4b46b051-fe9d-4238-a656-e0e5423f85df",
   "metadata": {},
   "source": [
    "11. What are the two methods for removing items from a list?\n",
    "---> 1. remove() this will remove the specific element which comes first in the list\n",
    "---> 2. pop() this will remove the specific index value which is asked in command"
   ]
  },
  {
   "cell_type": "markdown",
   "id": "2a6828c6-d60d-4595-a920-fdb95896262c",
   "metadata": {},
   "source": [
    "12. Describe how list values and string values are identical.\n",
    "---> Both lists and strings are sequential in nature.\n",
    "---> Both lists and strings support indexing.\n",
    "---> Lists and strings can be iterated over using loops.\n",
    "---> Both lists and strings support slicing."
   ]
  },
  {
   "cell_type": "markdown",
   "id": "735d0d7a-281a-4746-9dfa-0c94b6cca03f",
   "metadata": {},
   "source": [
    "13. What's the difference between tuples and lists?\n",
    "---> Tuples are immutable, lists are mutable.\n",
    "---> Tuples are defined using parentheses '()' and list uses square brackets '[]'.\n",
    "---> Tuples are generally more memory-efficient and have slightly better performance compared to lists.\n",
    "---> Lists have a wider range of built-in operations and methods compared to tuples."
   ]
  },
  {
   "cell_type": "markdown",
   "id": "6fe19a1b-a27e-4944-89f1-8c1f013a8546",
   "metadata": {},
   "source": [
    "14. How do you type a tuple value that only contains the integer 42?"
   ]
  },
  {
   "cell_type": "code",
   "execution_count": 28,
   "id": "df7970f3-01db-4c59-bd7b-dc8d3484aef5",
   "metadata": {},
   "outputs": [],
   "source": [
    "tup = (42,)"
   ]
  },
  {
   "cell_type": "markdown",
   "id": "7c96afa2-4fc2-4ccb-83c5-bcb1275969c1",
   "metadata": {},
   "source": [
    "15. How do you get a list value's tuple form? How do you get a tuple value's list form?"
   ]
  },
  {
   "cell_type": "code",
   "execution_count": 29,
   "id": "5c897c88-4371-483c-892a-d9a618bde5c9",
   "metadata": {},
   "outputs": [
    {
     "name": "stdout",
     "output_type": "stream",
     "text": [
      "(1, 2, 3, 4, 5)\n"
     ]
    }
   ],
   "source": [
    "my_list = [1, 2, 3, 4, 5]\n",
    "my_tuple = tuple(my_list)\n",
    "print(my_tuple)"
   ]
  },
  {
   "cell_type": "code",
   "execution_count": 31,
   "id": "5d5c6195-dfb8-415f-8777-2dda21fdfcf2",
   "metadata": {},
   "outputs": [
    {
     "name": "stdout",
     "output_type": "stream",
     "text": [
      "[1, 2, 3, 4, 5]\n"
     ]
    }
   ],
   "source": [
    "my_tuple = [1, 2, 3, 4, 5]\n",
    "my_list = list(my_tuple)\n",
    "print(my_list)"
   ]
  },
  {
   "cell_type": "markdown",
   "id": "d8416f9d-8739-48ba-95c7-22d6fa779943",
   "metadata": {},
   "source": [
    "16. Variables that \"contain\" list values are not necessarily lists themselves. Instead, what do they\n",
    "    contain?\n",
    "---> When you assign a list to a variable, the variable doesn't directly hold the entire list's data. Instead, it holds a reference to the memory location where the list is stored."
   ]
  },
  {
   "cell_type": "markdown",
   "id": "63e7fe5f-e9c1-413b-8256-5b5ce008a0db",
   "metadata": {},
   "source": [
    "17. How do you distinguish between copy.copy() and copy.deepcopy()?"
   ]
  },
  {
   "cell_type": "code",
   "execution_count": 45,
   "id": "b79e5ff2-19a3-466a-a3ec-0188d16daae2",
   "metadata": {},
   "outputs": [
    {
     "data": {
      "text/plain": [
       "[3.14, 'cat', [1, 2, 3, 6, 5]]"
      ]
     },
     "execution_count": 45,
     "metadata": {},
     "output_type": "execute_result"
    }
   ],
   "source": [
    "import copy\n",
    "bacon = [3.14,'cat',[1, 2, 3, 4, 5]]\n",
    "cp1 = copy.copy(bacon)\n",
    "cp1[2][3] = 6\n",
    "print(cp1)\n",
    "prbacon"
   ]
  },
  {
   "cell_type": "code",
   "execution_count": 46,
   "id": "09fe9e5d-ea33-4dd7-88f8-2760fd8ab796",
   "metadata": {},
   "outputs": [
    {
     "data": {
      "text/plain": [
       "[3.14, 'cat', [1, 2, 3, 4, 5]]"
      ]
     },
     "execution_count": 46,
     "metadata": {},
     "output_type": "execute_result"
    }
   ],
   "source": [
    "import copy\n",
    "bacon = [3.14,'cat', [1, 2, 3, 4, 5]]\n",
    "cp2 = copy.deepcopy(bacon)\n",
    "cp2[2][3] = 6\n",
    "cp2\n",
    "bacon"
   ]
  },
  {
   "cell_type": "code",
   "execution_count": null,
   "id": "e2ba1ef9-08ed-4df8-9391-42b3f4f7136a",
   "metadata": {},
   "outputs": [],
   "source": []
  }
 ],
 "metadata": {
  "kernelspec": {
   "display_name": "Python 3 (ipykernel)",
   "language": "python",
   "name": "python3"
  },
  "language_info": {
   "codemirror_mode": {
    "name": "ipython",
    "version": 3
   },
   "file_extension": ".py",
   "mimetype": "text/x-python",
   "name": "python",
   "nbconvert_exporter": "python",
   "pygments_lexer": "ipython3",
   "version": "3.10.6"
  }
 },
 "nbformat": 4,
 "nbformat_minor": 5
}
