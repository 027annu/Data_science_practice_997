{
 "cells": [
  {
   "cell_type": "markdown",
   "id": "0a8c853e-33dc-457e-8f9b-d9243e60d8f3",
   "metadata": {},
   "source": [
    "1. In Python, what is the difference between a built-in function and a user-defined function? Provide an\n",
    "   example of each."
   ]
  },
  {
   "cell_type": "code",
   "execution_count": 2,
   "id": "b9a088e6-801f-4279-ac0e-2798f8ee1806",
   "metadata": {},
   "outputs": [
    {
     "name": "stdout",
     "output_type": "stream",
     "text": [
      "Result: 8\n"
     ]
    }
   ],
   "source": [
    "# User-defined function to add two numbers\n",
    "def add_numbers(a, b):\n",
    "    return a + b\n",
    "\n",
    "# Calling the user-defined function\n",
    "result = add_numbers(5, 3)\n",
    "print(\"Result:\", result)\n",
    "# print is an inbuild function we don't have define it "
   ]
  },
  {
   "cell_type": "markdown",
   "id": "d25a992a-3c00-406f-9ba8-bfa8b9519778",
   "metadata": {},
   "source": [
    "2. How can you pass arguments to a function in Python? Explain the difference between positional\n",
    "   arguments and keyword arguments.\n",
    "---> In Python, you can pass arguments to a function in two ways: positional arguments and keyword arguments."
   ]
  },
  {
   "cell_type": "code",
   "execution_count": 3,
   "id": "ef7398ad-4719-4df8-bb03-e91ba907c621",
   "metadata": {},
   "outputs": [
    {
     "name": "stdout",
     "output_type": "stream",
     "text": [
      "Result: 8\n"
     ]
    }
   ],
   "source": [
    "# example of a function add_numbers() that takes two positional arguments\n",
    "def add_numbers(a, b):\n",
    "    return a + b\n",
    "\n",
    "result = add_numbers(5, 3)\n",
    "print(\"Result:\", result)"
   ]
  },
  {
   "cell_type": "code",
   "execution_count": 4,
   "id": "4fe0c656-2829-4bdd-b82d-0a77bcc0e3d9",
   "metadata": {},
   "outputs": [
    {
     "name": "stdout",
     "output_type": "stream",
     "text": [
      "Hello, Alice! How are you today?\n",
      "Hello, Bob! Nice to meet you!\n"
     ]
    }
   ],
   "source": [
    "# example of a function greet_person() that takes both positional and keyword arguments\n",
    "def greet_person(name, message):\n",
    "    print(f\"Hello, {name}! {message}\")\n",
    "\n",
    "greet_person(\"Alice\", message=\"How are you today?\")\n",
    "greet_person(name=\"Bob\", message=\"Nice to meet you!\")"
   ]
  },
  {
   "cell_type": "markdown",
   "id": "e5e7086b-efd2-4fb3-aec1-c3bacd77cd5c",
   "metadata": {},
   "source": [
    "3. What is the purpose of the return statement in a function? Can a function have multiple return\n",
    "   statements? Explain with an example.\n",
    "---> The purpose of the 'return' statement in a function is to specify the value that the function should produce as its result."
   ]
  },
  {
   "cell_type": "code",
   "execution_count": 6,
   "id": "2d484067-d1eb-4293-8033-ee8c1435ae83",
   "metadata": {},
   "outputs": [
    {
     "name": "stdout",
     "output_type": "stream",
     "text": [
      "Student 1 grade: B\n",
      "Student 2 grade: C\n"
     ]
    },
    {
     "data": {
      "text/plain": [
       "\" By using multiple 'return' statements, you can make your functions more flexible and adaptable, \\nallowing them to return different values based on different conditions or inputs.\\n\""
      ]
     },
     "execution_count": 6,
     "metadata": {},
     "output_type": "execute_result"
    }
   ],
   "source": [
    "def get_grade(score):\n",
    "    if score >= 90:\n",
    "        return \"A\"\n",
    "    elif score >= 80:\n",
    "        return \"B\"\n",
    "    elif score >= 70:\n",
    "        return \"C\"\n",
    "    else:\n",
    "        return \"F\"\n",
    "\n",
    "student1_grade = get_grade(85)\n",
    "student2_grade = get_grade(73)\n",
    "\n",
    "print(\"Student 1 grade:\", student1_grade)\n",
    "print(\"Student 2 grade:\", student2_grade)\n",
    "\n",
    "''' By using multiple 'return' statements, you can make your functions more flexible and adaptable, \n",
    "allowing them to return different values based on different conditions or inputs.\n",
    "'''"
   ]
  },
  {
   "cell_type": "markdown",
   "id": "2f485d0e-19c9-4383-8b4f-5384fe7c2461",
   "metadata": {},
   "source": [
    "4. What are lambda functions in Python? How are they different from regular functions? Provide an\n",
    "   example where a lambda function can be useful.\n",
    "---> lambda functions are also known as anonymous functions, are small, single-line functions that can be defined without a name. They are created using the lambda keyword followed by a set of parameters, a colon ':', and the expression or statement that represents the function's logic."
   ]
  },
  {
   "cell_type": "code",
   "execution_count": 7,
   "id": "6523ca2a-6bd1-40e7-a692-39f211b9c09f",
   "metadata": {},
   "outputs": [
    {
     "name": "stdout",
     "output_type": "stream",
     "text": [
      "[('Bob', 85), ('David', 88), ('Alice', 92), ('Charlie', 95)]\n"
     ]
    }
   ],
   "source": [
    "# Example using a lambda function to sort a list of tuples based on the second element\n",
    "students = [(\"Alice\", 92), (\"Bob\", 85), (\"Charlie\", 95), (\"David\", 88)]\n",
    "\n",
    "# Sort the list based on the second element of each tuple\n",
    "students.sort(key=lambda x: x[1])\n",
    "\n",
    "# Print the sorted list\n",
    "print(students)"
   ]
  },
  {
   "cell_type": "markdown",
   "id": "4fe65666-ae3a-42f3-a81c-d18ca268ab72",
   "metadata": {},
   "source": [
    "5. How does the concept of \"scope\" apply to functions in Python? Explain the difference between local\n",
    "   scope and global scope.\n",
    "---> Local scope used inside a funtion after function returns that scope is invalid, but globle scope will be valid in the entire script or module."
   ]
  },
  {
   "cell_type": "code",
   "execution_count": 8,
   "id": "ac3b9cf7-ba43-4c10-a58a-f899abfc3753",
   "metadata": {},
   "outputs": [
    {
     "name": "stdout",
     "output_type": "stream",
     "text": [
      "10\n"
     ]
    },
    {
     "ename": "NameError",
     "evalue": "name 'x' is not defined",
     "output_type": "error",
     "traceback": [
      "\u001b[0;31m---------------------------------------------------------------------------\u001b[0m",
      "\u001b[0;31mNameError\u001b[0m                                 Traceback (most recent call last)",
      "Cell \u001b[0;32mIn [8], line 6\u001b[0m\n\u001b[1;32m      3\u001b[0m     \u001b[38;5;28mprint\u001b[39m(x)  \u001b[38;5;66;03m# Accessible within the function\u001b[39;00m\n\u001b[1;32m      5\u001b[0m my_function()\n\u001b[0;32m----> 6\u001b[0m \u001b[38;5;28mprint\u001b[39m(\u001b[43mx\u001b[49m)\n",
      "\u001b[0;31mNameError\u001b[0m: name 'x' is not defined"
     ]
    }
   ],
   "source": [
    "def my_function():\n",
    "    x = 10  # Local variable\n",
    "    print(x)  # Accessible within the function\n",
    "\n",
    "my_function()\n",
    "print(x)  # Error: x is not defined in the global scope"
   ]
  },
  {
   "cell_type": "code",
   "execution_count": 9,
   "id": "14aad8ed-6763-43c0-99c3-83c1c398a63b",
   "metadata": {},
   "outputs": [
    {
     "name": "stdout",
     "output_type": "stream",
     "text": [
      "10\n",
      "10\n"
     ]
    }
   ],
   "source": [
    "x = 10  # Global variable\n",
    "\n",
    "def my_function():\n",
    "    print(x)  # Accessible within the function\n",
    "\n",
    "my_function()\n",
    "print(x)  # Accessible outside the function"
   ]
  },
  {
   "cell_type": "markdown",
   "id": "afe650f0-e9d8-4515-8e07-b8ba5d58f948",
   "metadata": {},
   "source": [
    "6. How can you use the \"return\" statement in a Python function to return multiple values?"
   ]
  },
  {
   "cell_type": "code",
   "execution_count": 10,
   "id": "ce8b00d0-8d17-44bc-9b0a-cbe0d64c5d88",
   "metadata": {},
   "outputs": [
    {
     "name": "stdout",
     "output_type": "stream",
     "text": [
      "(10, 20, 30)\n"
     ]
    }
   ],
   "source": [
    "def get_values():\n",
    "    a = 10\n",
    "    b = 20\n",
    "    c = 30\n",
    "    return a, b, c\n",
    "\n",
    "result = get_values()\n",
    "print(result)"
   ]
  },
  {
   "cell_type": "markdown",
   "id": "286f01a5-8105-4f76-8b7a-ed417ba070ea",
   "metadata": {},
   "source": [
    "7. What is the difference between the \"pass by value\" and \"pass by reference\" concepts when it\n",
    "   comes to function arguments in Python?\n",
    "---> \"pass by value\" is also knows as \"pass by object reference\" which is Immutable Objects.\n",
    "---> \"pass by reference\" is also knows as \"call by object reference\" which is Mutable Objects."
   ]
  },
  {
   "cell_type": "code",
   "execution_count": 13,
   "id": "3d8d4350-2c68-4e65-b8f5-e385847bd802",
   "metadata": {},
   "outputs": [
    {
     "name": "stdout",
     "output_type": "stream",
     "text": [
      "Inside function: 15\n",
      "Outside function: 5\n"
     ]
    }
   ],
   "source": [
    "# \"pass by object reference\"\n",
    "def modify_value(num):\n",
    "    num = num + 10\n",
    "    print(\"Inside function:\", num)\n",
    "\n",
    "x = 5\n",
    "modify_value(x)\n",
    "print(\"Outside function:\", x)"
   ]
  },
  {
   "cell_type": "code",
   "execution_count": 14,
   "id": "3c485309-18cb-4758-8e0a-c49b6f7f66ea",
   "metadata": {},
   "outputs": [
    {
     "name": "stdout",
     "output_type": "stream",
     "text": [
      "Inside function: [100, 2, 3, 4]\n",
      "Outside function: [100, 2, 3, 4]\n"
     ]
    }
   ],
   "source": [
    "# \"call by object reference\" \n",
    "def modify_list(lst):\n",
    "    lst.append(4)\n",
    "    lst[0] = 100\n",
    "    print(\"Inside function:\", lst)\n",
    "\n",
    "my_list = [1, 2, 3]\n",
    "modify_list(my_list)\n",
    "print(\"Outside function:\", my_list)"
   ]
  },
  {
   "cell_type": "markdown",
   "id": "687a71a9-f204-442a-b1df-67a21da84b6c",
   "metadata": {},
   "source": [
    "8. Create a function that can intake integer or decimal value and do following operations:\n",
    "   a. Logarithmic function (log x)\n",
    "   b. Exponential function (exp(x))\n",
    "   c. Power function with base 2 (2x)\n",
    "   d. Square root"
   ]
  },
  {
   "cell_type": "code",
   "execution_count": 15,
   "id": "19960bdc-0471-4cb9-9d50-060c73abebad",
   "metadata": {},
   "outputs": [
    {
     "name": "stdout",
     "output_type": "stream",
     "text": [
      "Logarithmic function (log 3.5): 1.252762968495368\n",
      "Exponential function (exp(3.5)): 33.11545195869231\n",
      "Power function with base 2 (2^3.5): 11.313708498984761\n",
      "Square root of 3.5: 1.8708286933869707\n"
     ]
    }
   ],
   "source": [
    "import math\n",
    "\n",
    "def math_operations(x):\n",
    "    # Logarithmic function (log x)\n",
    "    log_result = math.log(x)\n",
    "\n",
    "    # Exponential function (exp(x))\n",
    "    exp_result = math.exp(x)\n",
    "\n",
    "    # Power function with base 2 (2^x)\n",
    "    power_result = math.pow(2, x)\n",
    "\n",
    "    # Square root\n",
    "    sqrt_result = math.sqrt(x)\n",
    "\n",
    "    return log_result, exp_result, power_result, sqrt_result\n",
    "\n",
    "# Example usage\n",
    "input_value = 3.5\n",
    "results = math_operations(input_value)\n",
    "\n",
    "log_result, exp_result, power_result, sqrt_result = results\n",
    "\n",
    "print(f\"Logarithmic function (log {input_value}): {log_result}\")\n",
    "print(f\"Exponential function (exp({input_value})): {exp_result}\")\n",
    "print(f\"Power function with base 2 (2^{input_value}): {power_result}\")\n",
    "print(f\"Square root of {input_value}: {sqrt_result}\")"
   ]
  },
  {
   "cell_type": "markdown",
   "id": "e994d2ed-374b-4641-89f3-c49ece60191b",
   "metadata": {},
   "source": [
    "9. Create a function that takes a full name as an argument and returns first name and last name."
   ]
  },
  {
   "cell_type": "code",
   "execution_count": 20,
   "id": "a7fa83f4-b318-40b5-b023-bdb48372ea05",
   "metadata": {},
   "outputs": [
    {
     "name": "stdout",
     "output_type": "stream",
     "text": [
      "First Name: John\n",
      "Last Name: Doe\n"
     ]
    }
   ],
   "source": [
    "def get_first_and_last_name(full_name):\n",
    "    # Split the full name into a list of words\n",
    "    name_parts = full_name.split()\n",
    "\n",
    "    # Get the first name (first element in the list)\n",
    "    first_name = name_parts[0]\n",
    "\n",
    "    # Get the last name (last element in the list)\n",
    "    last_name = name_parts[-1]\n",
    "\n",
    "    return first_name, last_name\n",
    "\n",
    "# Example usage\n",
    "name = \"John Doe\"\n",
    "first_name, last_name = get_first_and_last_name(name)\n",
    "\n",
    "print(\"First Name:\", first_name)\n",
    "print(\"Last Name:\", last_name)"
   ]
  }
 ],
 "metadata": {
  "kernelspec": {
   "display_name": "Python 3 (ipykernel)",
   "language": "python",
   "name": "python3"
  },
  "language_info": {
   "codemirror_mode": {
    "name": "ipython",
    "version": 3
   },
   "file_extension": ".py",
   "mimetype": "text/x-python",
   "name": "python",
   "nbconvert_exporter": "python",
   "pygments_lexer": "ipython3",
   "version": "3.10.6"
  }
 },
 "nbformat": 4,
 "nbformat_minor": 5
}
