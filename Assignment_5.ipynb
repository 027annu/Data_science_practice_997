{
 "cells": [
  {
   "cell_type": "markdown",
   "id": "fcfd46d8-aa89-44cb-8320-b6541c7feed7",
   "metadata": {},
   "source": [
    "1. What does an empty dictionary's code look like?\n",
    "---> my_dict ={}\n",
    "---> my_dict = dict()"
   ]
  },
  {
   "cell_type": "markdown",
   "id": "cfae878f-172d-4b16-91cd-18e946eefa6b",
   "metadata": {},
   "source": [
    "2. What is the value of a dictionary value with the key 'foo' and the value 42?"
   ]
  },
  {
   "cell_type": "code",
   "execution_count": 1,
   "id": "1df4d08e-7dae-4454-9c8c-893893010c17",
   "metadata": {},
   "outputs": [
    {
     "name": "stdout",
     "output_type": "stream",
     "text": [
      "42\n"
     ]
    }
   ],
   "source": [
    "my_dict = {'foo': 42}\n",
    "value = my_dict['foo']\n",
    "print(value)  # Output: 42"
   ]
  },
  {
   "cell_type": "markdown",
   "id": "ae3599a0-b81d-4b2b-a9b0-bb7ebc60edd0",
   "metadata": {},
   "source": [
    "3. What is the most significant distinction between a dictionary and a list?\n",
    "---> list is an orderded data collection and a dictionary is an unordered collection of key-value pairs, where each key is unique and associated with a value. \n",
    "--->  In a list elements are accessed by their index using integer values but in a dictionary elements are accessed by their keys rather than indices."
   ]
  },
  {
   "cell_type": "markdown",
   "id": "f52573a2-3dea-484e-97d6-90c31411b631",
   "metadata": {},
   "source": [
    "4. What happens if you try to access spam['foo'] if spam is {'bar': 100}?\n",
    "---> we will get a key error"
   ]
  },
  {
   "cell_type": "markdown",
   "id": "66f7f9a6-ea69-4357-b29a-54a8fec057d8",
   "metadata": {},
   "source": [
    "5. If a dictionary is stored in spam, what is the difference between the expressions 'cat' in spam and\n",
    "   'cat' in spam.keys()?"
   ]
  },
  {
   "cell_type": "code",
   "execution_count": 3,
   "id": "e3ec565b-3e91-47bd-a2da-db5207e6667b",
   "metadata": {},
   "outputs": [
    {
     "name": "stdout",
     "output_type": "stream",
     "text": [
      "True\n"
     ]
    }
   ],
   "source": [
    "spam = {'cat': 42, 'dog': 55, 'bird': 12}\n",
    "print('cat' in spam.keys())  # Output: True"
   ]
  },
  {
   "cell_type": "markdown",
   "id": "12aa1daa-2e8f-4a74-818e-1dd8050a9b78",
   "metadata": {},
   "source": [
    "6. If a dictionary is stored in spam, what is the difference between the expressions 'cat' in spam and\n",
    "   'cat' in spam.values()?"
   ]
  },
  {
   "cell_type": "code",
   "execution_count": 5,
   "id": "b8a3edcf-c887-4a3a-ae1a-4ff016a47d65",
   "metadata": {},
   "outputs": [
    {
     "name": "stdout",
     "output_type": "stream",
     "text": [
      "False\n"
     ]
    }
   ],
   "source": [
    "spam = {'cat': 42, 'dog': 55, 'bird': 12}\n",
    "print('cat' in spam.values())  # Output: False"
   ]
  },
  {
   "cell_type": "markdown",
   "id": "bb441b59-f786-4367-913d-711102959c89",
   "metadata": {},
   "source": [
    "7. What is a shortcut for the following code?\n",
    "   if 'color' not in spam:\n",
    "   spam['color'] = 'black'"
   ]
  },
  {
   "cell_type": "code",
   "execution_count": 6,
   "id": "54622ccd-20d1-447c-b07a-d15c60dcb606",
   "metadata": {},
   "outputs": [
    {
     "data": {
      "text/plain": [
       "{'cat': 42, 'dog': 55, 'bird': 12, 'color': 'black'}"
      ]
     },
     "execution_count": 6,
     "metadata": {},
     "output_type": "execute_result"
    }
   ],
   "source": [
    "spam.setdefault('color', 'black')\n",
    "spam"
   ]
  },
  {
   "cell_type": "markdown",
   "id": "15511c1b-b0a2-4138-9a0a-01553aa32927",
   "metadata": {},
   "source": [
    "8. How do you \"pretty print\" dictionary values using which module and function?"
   ]
  },
  {
   "cell_type": "code",
   "execution_count": 7,
   "id": "550ce3b8-d907-42ea-96ee-3045e170047b",
   "metadata": {},
   "outputs": [
    {
     "name": "stdout",
     "output_type": "stream",
     "text": [
      "{'age': 26, 'city': 'Bangalore', 'name': 'Annu'}\n"
     ]
    }
   ],
   "source": [
    "import pprint\n",
    "\n",
    "my_dict = {'name': 'Annu', 'age': 26, 'city': 'Bangalore'}\n",
    "\n",
    "pprint.pprint(my_dict)"
   ]
  }
 ],
 "metadata": {
  "kernelspec": {
   "display_name": "Python 3 (ipykernel)",
   "language": "python",
   "name": "python3"
  },
  "language_info": {
   "codemirror_mode": {
    "name": "ipython",
    "version": 3
   },
   "file_extension": ".py",
   "mimetype": "text/x-python",
   "name": "python",
   "nbconvert_exporter": "python",
   "pygments_lexer": "ipython3",
   "version": "3.10.6"
  }
 },
 "nbformat": 4,
 "nbformat_minor": 5
}
