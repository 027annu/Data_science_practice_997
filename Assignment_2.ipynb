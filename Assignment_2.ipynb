{
 "cells": [
  {
   "cell_type": "markdown",
   "id": "fd03bc0e-747d-42d1-9622-e11811f40f90",
   "metadata": {},
   "source": [
    "1.  What are the two values of the Boolean data type? How do you write them?\n",
    "    --> True & False \n",
    "    These Boolean values are commonly used in logical expressions, conditional statements, and Boolean algebra to control\n",
    "    program flow, make decisions, and evaluate conditions."
   ]
  },
  {
   "cell_type": "markdown",
   "id": "21129ad8-83e1-4bdc-bf08-fd951fe45a91",
   "metadata": {},
   "source": [
    "2. What are the three different types of Boolean operators?"
   ]
  },
  {
   "cell_type": "code",
   "execution_count": 3,
   "id": "90daf6d6-5abe-418b-8b67-aee7473c3286",
   "metadata": {},
   "outputs": [
    {
     "data": {
      "text/plain": [
       "True"
      ]
     },
     "execution_count": 3,
     "metadata": {},
     "output_type": "execute_result"
    }
   ],
   "source": [
    "# 1. 'and' operartor\n",
    "True and True  # Output: True\n",
    "True and False  # Output: False\n",
    "# 2. 'or' operator\n",
    "True or False  # Output: True\n",
    "False or False  # Output: False\n",
    "# 3. 'not' operator\n",
    "not True  # Output: False\n",
    "not False  # Output: True"
   ]
  },
  {
   "cell_type": "markdown",
   "id": "a67b2265-81a8-40fc-9577-2c879939a453",
   "metadata": {},
   "source": [
    "3. Make a list of each Boolean operators truth tables (i.e. every possible combination of Boolean\n",
    "   values for the operator and what it evaluate )."
   ]
  },
  {
   "cell_type": "code",
   "execution_count": null,
   "id": "cd29516d-5f60-46b4-b29e-7e56c019f3c5",
   "metadata": {},
   "outputs": [],
   "source": [
    "# 1. 'and' operartor\n",
    "True and True  # Output: True\n",
    "True and False  # Output: False\n",
    "False and False  # Output: False\n",
    "False and True  # Output: False\n",
    "# 2. 'or' operator\n",
    "True or False  # Output: True\n",
    "False or False  # Output: False\n",
    "True or True  # Output: True\n",
    "False or True  # Output: True\n",
    "# 3. 'not' operator\n",
    "not True  # Output: False\n",
    "not False  # Output: True"
   ]
  },
  {
   "cell_type": "markdown",
   "id": "a1d28cbc-2477-4af3-af84-21943f8f3516",
   "metadata": {},
   "source": [
    "4. What are the values of the following expressions?\n",
    "    (5 > 4) and (3 == 5) -- False \n",
    "    not (5 > 4) -- False \n",
    "    (5 > 4) or (3 == 5) -- True\n",
    "    not ((5 > 4) or (3 == 5)) -- False \n",
    "    (True and True) and (True == False) -- False \n",
    "    (not False) or (not True) -- True"
   ]
  },
  {
   "cell_type": "markdown",
   "id": "f888f6c0-2e4c-4f14-bfec-6ade414150eb",
   "metadata": {},
   "source": [
    "5.  What are the six comparison operators?\n",
    "    Equal to (==) , Not equal to (!=), Greater than (>), Less than (<), \n",
    "    Greater than or equal to (>=), Less than or equal to (<=),\n",
    "    "
   ]
  },
  {
   "cell_type": "markdown",
   "id": "b52d908b-49b5-4d7e-baeb-3d5864556fae",
   "metadata": {},
   "source": [
    "6. How do you tell the difference between the equal to and assignment operators?Describe a\n",
    "   condition and when you would use one.\n",
    "   '==' means we are comparing 2 variables \n",
    "   '=' means we are assign a value to the varibale"
   ]
  },
  {
   "cell_type": "code",
   "execution_count": 16,
   "id": "4163b44b-2462-4435-9770-619421c34a9c",
   "metadata": {},
   "outputs": [
    {
     "name": "stdout",
     "output_type": "stream",
     "text": [
      "x is not equal to y\n",
      "---------------------------------------------------------\n",
      "8\n"
     ]
    }
   ],
   "source": [
    "x = 5\n",
    "y = 10\n",
    "if x == y: # comparision is heppening between 2 variables\n",
    "    print(\"x is equal to y\")\n",
    "else:\n",
    "    print(\"x is not equal to y\")\n",
    "print(\"---------------------------------------------------------\")\n",
    "x = 5\n",
    "z = x + 3 # assigning a value to the varible\n",
    "print (z)"
   ]
  },
  {
   "cell_type": "markdown",
   "id": "94dced25-de8b-4286-8ed7-4c4389cc2e60",
   "metadata": {},
   "source": [
    "7. Identify the three blocks in this code:\n",
    "spam = 0\n",
    "if spam == 10:\n",
    "print(\"eggs\")\n",
    "if spam > 5:\n",
    "print('bacon')\n",
    "else:\n",
    "print('ham')\n",
    "print('spam')\n",
    "print('spam')"
   ]
  },
  {
   "cell_type": "code",
   "execution_count": 19,
   "id": "7d5dbd7e-ed1b-4c42-8a74-21756045d0e2",
   "metadata": {},
   "outputs": [
    {
     "name": "stdout",
     "output_type": "stream",
     "text": [
      "ham\n",
      "spam\n",
      "spam\n"
     ]
    }
   ],
   "source": [
    "spam = 0\n",
    "if spam == 10:\n",
    "    print(\"eggs\")\n",
    "elif spam > 5:\n",
    "    print('bacon')\n",
    "else:\n",
    "    print('ham')\n",
    "    print('spam')\n",
    "    print('spam')"
   ]
  },
  {
   "cell_type": "markdown",
   "id": "15c6c6d1-8ec4-4af8-be17-86b6f6fbd4d5",
   "metadata": {},
   "source": [
    "8. Write code that prints Hello if 1 is stored in spam, prints Howdy if 2 is stored in spam, and prints\n",
    "   Greetings! if anything else is stored in spam."
   ]
  },
  {
   "cell_type": "code",
   "execution_count": 25,
   "id": "d627c34a-eeee-4f00-a2bc-919670d40e8a",
   "metadata": {},
   "outputs": [
    {
     "name": "stdin",
     "output_type": "stream",
     "text": [
      "Enter your choice for spam:  2\n"
     ]
    },
    {
     "name": "stdout",
     "output_type": "stream",
     "text": [
      "Howdy\n"
     ]
    }
   ],
   "source": [
    "spam = input(\"Enter your choice for spam: \")  # Assume 3 is stored in spam\n",
    "\n",
    "if spam == '1':\n",
    "    print(\"Hello\")\n",
    "elif spam == '2':\n",
    "    print(\"Howdy\")\n",
    "else:\n",
    "    print(\"Greetings!\")"
   ]
  },
  {
   "cell_type": "markdown",
   "id": "bfc937a1-686b-43b0-8488-45aaa6aee3d2",
   "metadata": {},
   "source": [
    "9. If your programme is stuck in an endless loop, what keys you’ll press?\n",
    "   ---> Ctrl + c "
   ]
  },
  {
   "cell_type": "markdown",
   "id": "a82da31b-586d-4de2-9783-b8ddb37a80af",
   "metadata": {},
   "source": [
    "10. How can you tell the difference between break and continue?\n",
    "Break -- will help to terminate the a loop when condition is fullfiled\n",
    "continue -- will help to run the loop further when condition is fullfied"
   ]
  },
  {
   "cell_type": "code",
   "execution_count": 26,
   "id": "bf766d1c-941c-4a97-85ec-eb4d94e2d867",
   "metadata": {},
   "outputs": [
    {
     "name": "stdout",
     "output_type": "stream",
     "text": [
      "0\n",
      "1\n",
      "2\n"
     ]
    }
   ],
   "source": [
    "for i in range(5):\n",
    "    if i == 3:\n",
    "        break\n",
    "    print(i)"
   ]
  },
  {
   "cell_type": "code",
   "execution_count": 27,
   "id": "a3d8beea-c80a-41c1-bd77-575e2130295f",
   "metadata": {},
   "outputs": [
    {
     "name": "stdout",
     "output_type": "stream",
     "text": [
      "0\n",
      "1\n",
      "2\n",
      "4\n"
     ]
    }
   ],
   "source": [
    "for i in range(5):\n",
    "    if i == 3:\n",
    "        continue\n",
    "    print(i)"
   ]
  },
  {
   "cell_type": "markdown",
   "id": "b373d169-b6cf-4e79-b4a9-0eb9341439b4",
   "metadata": {},
   "source": [
    "11. In a for loop, what is the difference between range(10), range(0, 10), and range(0, 10, 1)?\n",
    "range (10) -- telling that input is having length 10\n",
    "range (0, 10) -- telling that input start from 0 and length is 10\n",
    "range (0, 10, 1) -- telling that input start from 0 and length is 10 but having 1 difference in between 2 value\n",
    "but as output there will be no difference if we are using in fpor loop \n",
    "all have same output i.e. they all generate the same sequence of numbers from 0 to 9"
   ]
  },
  {
   "cell_type": "markdown",
   "id": "fb396629-c52e-4550-923e-a19d086ee90c",
   "metadata": {},
   "source": [
    "12. Write a short program that prints the numbers 1 to 10 using a for loop. Then write an equivalent\n",
    "    program that prints the numbers 1 to 10 using a while loop."
   ]
  },
  {
   "cell_type": "code",
   "execution_count": 32,
   "id": "4898ffcf-78d8-450d-9c45-6e080085fc63",
   "metadata": {},
   "outputs": [
    {
     "name": "stdout",
     "output_type": "stream",
     "text": [
      "1\n",
      "2\n",
      "3\n",
      "4\n",
      "5\n",
      "6\n",
      "7\n",
      "8\n",
      "9\n",
      "10\n"
     ]
    }
   ],
   "source": [
    "for i in range (1, 11):\n",
    "    print(i)"
   ]
  },
  {
   "cell_type": "code",
   "execution_count": 38,
   "id": "e4b581e5-5db6-49ee-9ce6-4eeac4a1e475",
   "metadata": {},
   "outputs": [
    {
     "name": "stdout",
     "output_type": "stream",
     "text": [
      "1\n",
      "2\n",
      "3\n",
      "4\n",
      "5\n",
      "6\n",
      "7\n",
      "8\n",
      "9\n",
      "10\n"
     ]
    }
   ],
   "source": [
    "count = 1\n",
    "while count <= 10:\n",
    "    print(count)\n",
    "    count += 1"
   ]
  },
  {
   "cell_type": "markdown",
   "id": "ae07cd18-76a0-48ec-bc9f-1d8ecadde8ca",
   "metadata": {},
   "source": [
    "13. If you had a function named bacon() inside a module named spam, how would you call it after\n",
    "    importing spam?"
   ]
  },
  {
   "cell_type": "code",
   "execution_count": null,
   "id": "a5c15c8b-ed2b-4eee-aa79-5cd67f04a8f9",
   "metadata": {},
   "outputs": [],
   "source": [
    "import spam\n",
    "spam.bacon()"
   ]
  }
 ],
 "metadata": {
  "kernelspec": {
   "display_name": "Python 3 (ipykernel)",
   "language": "python",
   "name": "python3"
  },
  "language_info": {
   "codemirror_mode": {
    "name": "ipython",
    "version": 3
   },
   "file_extension": ".py",
   "mimetype": "text/x-python",
   "name": "python",
   "nbconvert_exporter": "python",
   "pygments_lexer": "ipython3",
   "version": "3.10.6"
  }
 },
 "nbformat": 4,
 "nbformat_minor": 5
}
