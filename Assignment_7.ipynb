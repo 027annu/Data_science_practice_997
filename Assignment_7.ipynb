{
 "cells": [
  {
   "cell_type": "markdown",
   "id": "6d77fa83-dce5-4789-8140-94e0ee6d8f9a",
   "metadata": {},
   "source": [
    "1. Create two int type variables, apply addition, subtraction, division and multiplications\n",
    "   and store the results in variables. Then print the data in the following format by calling the\n",
    "   variables:\n",
    "   First variable is __ & second variable is __.\n",
    "   Addition: __ + __ = __\n",
    "   Subtraction: __ - __ = __\n",
    "   Multiplication: __ * __ = __\n",
    "   Division: __ / __ = __"
   ]
  },
  {
   "cell_type": "code",
   "execution_count": 4,
   "id": "cb784ec0-b3ea-468d-a2a3-f01081f71726",
   "metadata": {},
   "outputs": [
    {
     "name": "stdout",
     "output_type": "stream",
     "text": [
      "First varibale is 8 & second varibale is 2\n",
      "Addition: 8 + 2 = 10\n",
      "Subtraction: 8 - 2 = 6\n",
      "Multiplication: 8 * 2 = 16\n",
      "Division: 8 / 2 = 4.0\n"
     ]
    }
   ],
   "source": [
    "x = 8\n",
    "y = 2\n",
    "print ('First varibale is', x, '& second varibale is', y)\n",
    "print ('Addition:' , x,'+', y, '=', x+y)\n",
    "print ('Subtraction:' , x,'-', y, '=', x-y)\n",
    "print ('Multiplication:' , x,'*', y, '=', x*y)\n",
    "print ('Division:' , x,'/', y, '=', x/y)"
   ]
  },
  {
   "cell_type": "markdown",
   "id": "417eb7f9-386a-4418-a310-17948b810c8c",
   "metadata": {},
   "source": [
    "2. What is the difference between the following operators:\n",
    "   (i) ‘/’ & ‘//’ \n",
    "   (ii) ‘**’ & ‘^’\n",
    "---> '/' is a simple division operator & '//' is a floor division operator.\n",
    "---> '**' is a exponential operator & '^' is not a buildin operator but it will use as bitwise XOR operator."
   ]
  },
  {
   "cell_type": "markdown",
   "id": "731054d8-bad6-462d-a641-495095612b22",
   "metadata": {},
   "source": [
    "3. List the logical operators.\n",
    "---> and, or & not."
   ]
  },
  {
   "cell_type": "markdown",
   "id": "3720b7df-1213-44a4-9592-16fce9de80a4",
   "metadata": {},
   "source": [
    "4. Explain right shift operator and left shift operator with examples."
   ]
  },
  {
   "cell_type": "code",
   "execution_count": 6,
   "id": "b48db87d-f59f-4726-8e45-b56babadfe24",
   "metadata": {},
   "outputs": [
    {
     "name": "stdout",
     "output_type": "stream",
     "text": [
      "2\n"
     ]
    }
   ],
   "source": [
    "a = 10 #1010\n",
    "# right shift \n",
    "print( a >> 2) # 0010"
   ]
  },
  {
   "cell_type": "code",
   "execution_count": 5,
   "id": "fb132d46-ea44-44db-a8c7-1c5787f2d74f",
   "metadata": {},
   "outputs": [
    {
     "name": "stdout",
     "output_type": "stream",
     "text": [
      "16\n"
     ]
    }
   ],
   "source": [
    "b = 4 #0100\n",
    "# Left shift\n",
    "print( b << 2) #010000"
   ]
  },
  {
   "cell_type": "markdown",
   "id": "84e8564d-0690-42d3-8305-ba3d79e3f054",
   "metadata": {},
   "source": [
    "5. Create a list containing int type data of length 15. Then write a code to check if 10 is\n",
    "   present in the list or not."
   ]
  },
  {
   "cell_type": "code",
   "execution_count": 7,
   "id": "1fbef248-c4f2-4cb0-9b94-b556a0e778c5",
   "metadata": {},
   "outputs": [
    {
     "name": "stdout",
     "output_type": "stream",
     "text": [
      "10 is present in the list.\n"
     ]
    }
   ],
   "source": [
    "my_list = [2, 5, 8, 3, 9, 10, 6, 4, 1, 7, 12, 15, 13, 11, 14]\n",
    "if 10 in my_list:\n",
    "    print(\"10 is present in the list.\")\n",
    "else:\n",
    "    print(\"10 is not present in the list.\")"
   ]
  }
 ],
 "metadata": {
  "kernelspec": {
   "display_name": "Python 3 (ipykernel)",
   "language": "python",
   "name": "python3"
  },
  "language_info": {
   "codemirror_mode": {
    "name": "ipython",
    "version": 3
   },
   "file_extension": ".py",
   "mimetype": "text/x-python",
   "name": "python",
   "nbconvert_exporter": "python",
   "pygments_lexer": "ipython3",
   "version": "3.10.6"
  }
 },
 "nbformat": 4,
 "nbformat_minor": 5
}
