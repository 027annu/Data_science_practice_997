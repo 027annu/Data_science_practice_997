{
 "cells": [
  {
   "cell_type": "markdown",
   "id": "64a26636-ad77-4e41-9484-ff7b687123a1",
   "metadata": {},
   "source": [
    "1. What is a lambda function in Python, and how does it differ from a regular function?\n",
    "\n",
    "---> In Python, a lambda function is a small anonymous function that can have any number of arguments but can only have one expression. It is defined using the lambda keyword followed by the arguments and the expression. Lambda functions are also known as \"anonymous functions\" because they do not have a name.\n",
    "Lambda functions are commonly used in situations where a short and simple function is needed, and there is no need to define a separate function using def. They are often used as arguments to higher-order functions like map(), filter(), and sort(), where a function is required as an argument."
   ]
  },
  {
   "cell_type": "markdown",
   "id": "6c81070b-ff2f-4de3-a376-fbcb233e8e61",
   "metadata": {},
   "source": [
    "2. Can a lambda function in Python have multiple arguments? If yes, how can you define and use\n",
    "   them?\n",
    "   \n",
    "---> Yes, a lambda function in Python can have multiple arguments. Lambda functions can take any number of arguments, just like regular functions, but they are limited to a single expression."
   ]
  },
  {
   "cell_type": "code",
   "execution_count": 2,
   "id": "a773151e-066e-45f6-b59e-07b895a3a7ea",
   "metadata": {},
   "outputs": [
    {
     "name": "stdout",
     "output_type": "stream",
     "text": [
      "15\n"
     ]
    }
   ],
   "source": [
    "#Example\n",
    "multiply = lambda x, y: x * y\n",
    "result = multiply(5, 3)  # result will be 15\n",
    "print(result)"
   ]
  },
  {
   "cell_type": "markdown",
   "id": "827a223d-3b30-4aa6-9c8f-12948312f2af",
   "metadata": {},
   "source": [
    "3. How are lambda functions typically used in Python? Provide an example use case.\n",
    "\n",
    "---> Lambda functions in Python are often used in situations where a small, anonymous function is needed for a short period, typically as an argument to higher-order functions. They are especially useful when you want to perform simple operations on elements of a collection or when defining quick, one-liner functions without the need to create a full-fledged named function using def."
   ]
  },
  {
   "cell_type": "code",
   "execution_count": 3,
   "id": "f47586db-0716-4120-b7e3-e4cfa350ab35",
   "metadata": {},
   "outputs": [
    {
     "name": "stdout",
     "output_type": "stream",
     "text": [
      "[1, 4, 9, 16, 25]\n"
     ]
    }
   ],
   "source": [
    "numbers = [1, 2, 3, 4, 5]\n",
    "squared_numbers = list(map(lambda x: x ** 2, numbers))\n",
    "print(squared_numbers)"
   ]
  },
  {
   "cell_type": "markdown",
   "id": "0e0e81cd-bbc5-45ab-b84c-a7032452ba1b",
   "metadata": {},
   "source": [
    "4. What are the advantages and limitations of lambda functions compared to regular functions in\n",
    "   Python?\n",
    "   \n",
    "---> Lambda functions are a powerful tool for creating small, anonymous functions in Python. They are particularly useful for quick, simple operations, especially when used with higher-order functions. However, for more complex tasks or when readability and maintainability are crucial, regular named functions are generally preferred. It's essential to use lambda functions judiciously and balance their benefits with their limitations."
   ]
  },
  {
   "cell_type": "markdown",
   "id": "42e047dc-bdb4-4f60-be3c-61b812feb1fa",
   "metadata": {},
   "source": [
    "5. Are lambda functions in Python able to access variables defined outside of their own scope?\n",
    "   Explain with an example.\n",
    "   \n",
    "---> Yes, lambda functions in Python can access variables defined outside of their own scope. This is because lambda functions have access to variables in the surrounding scope, just like regular functions. This behavior is known as lexical scoping or closure."
   ]
  },
  {
   "cell_type": "code",
   "execution_count": 4,
   "id": "3fa0d2d3-d682-4a0a-a901-11693c51e11a",
   "metadata": {},
   "outputs": [
    {
     "name": "stdout",
     "output_type": "stream",
     "text": [
      "15\n"
     ]
    }
   ],
   "source": [
    "def outer_function(x):\n",
    "    # Define a lambda function that takes an argument 'y' and returns the sum of 'x' and 'y'\n",
    "    inner_function = lambda y: x + y\n",
    "    return inner_function\n",
    "\n",
    "# Call the outer_function with argument 10 to create the lambda function\n",
    "my_lambda = outer_function(10)\n",
    "\n",
    "# Use the lambda function to add 5 to the value of 'x'\n",
    "result = my_lambda(5)\n",
    "print(result)  # Output: 15\n"
   ]
  },
  {
   "cell_type": "markdown",
   "id": "a3bcb2d3-a469-42c4-a714-0121181ebcb4",
   "metadata": {},
   "source": [
    "6. Write a lambda function to calculate the square of a given number."
   ]
  },
  {
   "cell_type": "code",
   "execution_count": 16,
   "id": "569d0b33-f84e-4471-babf-cc1345e33088",
   "metadata": {},
   "outputs": [
    {
     "name": "stdin",
     "output_type": "stream",
     "text": [
      "Please enter no: 5\n"
     ]
    },
    {
     "name": "stdout",
     "output_type": "stream",
     "text": [
      "The square of 5 is: 25\n"
     ]
    }
   ],
   "source": [
    "square = lambda x: x ** 2\n",
    "\n",
    "# Test the lambda function\n",
    "number = int(input(\"Please enter no:\"))\n",
    "result = square(number)\n",
    "print(\"The square of\", number, \"is:\", result)"
   ]
  },
  {
   "cell_type": "markdown",
   "id": "20143243-0911-4086-b320-f6020a7dd501",
   "metadata": {},
   "source": [
    "7. Create a lambda function to find the maximum value in a list of integers."
   ]
  },
  {
   "cell_type": "code",
   "execution_count": 10,
   "id": "172e8429-3c6b-43db-8037-e541d466cc8e",
   "metadata": {},
   "outputs": [
    {
     "name": "stdout",
     "output_type": "stream",
     "text": [
      "The maximum value in the list is: 45\n"
     ]
    }
   ],
   "source": [
    "find_max = lambda lst: max(lst)\n",
    "\n",
    "# Test the lambda function\n",
    "numbers = [10, 35, 20, 45, 30]\n",
    "max_value = find_max(numbers)\n",
    "print(\"The maximum value in the list is:\", max_value)"
   ]
  },
  {
   "cell_type": "markdown",
   "id": "26542548-12f5-4816-8443-e859f5aa501c",
   "metadata": {},
   "source": [
    "8. Implement a lambda function to filter out all the even numbers from a list of integers."
   ]
  },
  {
   "cell_type": "code",
   "execution_count": 11,
   "id": "1ed05343-6863-46db-ac10-e4fc8f971e3f",
   "metadata": {},
   "outputs": [
    {
     "name": "stdout",
     "output_type": "stream",
     "text": [
      "Even numbers in the list: [2, 4, 6, 8, 10]\n"
     ]
    }
   ],
   "source": [
    "even_numbers = lambda lst: list(filter(lambda x: x % 2 == 0, lst))\n",
    "\n",
    "# Test the lambda function\n",
    "numbers = [1, 2, 3, 4, 5, 6, 7, 8, 9, 10]\n",
    "filtered_list = even_numbers(numbers)\n",
    "print(\"Even numbers in the list:\", filtered_list)"
   ]
  },
  {
   "cell_type": "markdown",
   "id": "10c0ecf6-179b-4e5e-89e4-d91f69b74372",
   "metadata": {},
   "source": [
    "9. Write a lambda function to sort a list of strings in ascending order based on the length of each\n",
    "   string."
   ]
  },
  {
   "cell_type": "code",
   "execution_count": 13,
   "id": "325f88d8-8a5f-48f5-bbd7-f80619560446",
   "metadata": {},
   "outputs": [
    {
     "name": "stdout",
     "output_type": "stream",
     "text": [
      "Sorted words by length: ['kiwi', 'apple', 'grape', 'banana', 'orange', 'jackfruit']\n"
     ]
    }
   ],
   "source": [
    "sort_by_length = lambda lst: sorted(lst, key=lambda x: len(x))\n",
    "\n",
    "# Test the lambda function\n",
    "words = [\"apple\", \"banana\", \"orange\", \"jackfruit\", \"grape\", \"kiwi\"]\n",
    "sorted_words = sort_by_length(words)\n",
    "print(\"Sorted words by length:\", sorted_words)"
   ]
  },
  {
   "cell_type": "markdown",
   "id": "5f7f39f2-60f4-4c48-abcc-c946d576b164",
   "metadata": {},
   "source": [
    "10. Create a lambda function that takes two lists as input and returns a new list containing the\n",
    "    common elements between the two lists."
   ]
  },
  {
   "cell_type": "code",
   "execution_count": 14,
   "id": "a4bfedd4-d5c5-4d2e-83d9-c934bb7413c5",
   "metadata": {},
   "outputs": [
    {
     "name": "stdout",
     "output_type": "stream",
     "text": [
      "Common elements: [4, 5]\n"
     ]
    }
   ],
   "source": [
    "common_elements = lambda list1, list2: list(set(list1) & set(list2))\n",
    "\n",
    "# Test the lambda function\n",
    "list1 = [1, 2, 3, 4, 5]\n",
    "list2 = [4, 5, 6, 7, 8]\n",
    "result = common_elements(list1, list2)\n",
    "print(\"Common elements:\", result)"
   ]
  },
  {
   "cell_type": "markdown",
   "id": "98996f85-c759-4312-a98c-1017dd35a5c3",
   "metadata": {},
   "source": [
    "11. Write a recursive function to calculate the factorial of a given positive integer."
   ]
  },
  {
   "cell_type": "code",
   "execution_count": 17,
   "id": "674d533d-8af7-44de-a2a1-cf7a3881da51",
   "metadata": {},
   "outputs": [
    {
     "name": "stdin",
     "output_type": "stream",
     "text": [
      "Please enter no: 5\n"
     ]
    },
    {
     "name": "stdout",
     "output_type": "stream",
     "text": [
      "Factorial of 5 is 120\n"
     ]
    }
   ],
   "source": [
    "def factorial(n):\n",
    "    if n == 0:\n",
    "        return 1\n",
    "    else:\n",
    "        return n * factorial(n - 1)\n",
    "\n",
    "# Test the factorial function\n",
    "number = int(input(\"Please enter no:\"))\n",
    "result = factorial(number)\n",
    "print(\"Factorial of\", number, \"is\", result)"
   ]
  },
  {
   "cell_type": "markdown",
   "id": "175dde1d-3972-4832-b696-a38d98d3d480",
   "metadata": {},
   "source": [
    "12. Implement a recursive function to compute the nth Fibonacci number."
   ]
  },
  {
   "cell_type": "code",
   "execution_count": 21,
   "id": "d54fcb7c-a887-416a-b915-bbbd7e5e2897",
   "metadata": {},
   "outputs": [
    {
     "name": "stdin",
     "output_type": "stream",
     "text": [
      "Please enter no: 8\n"
     ]
    },
    {
     "name": "stdout",
     "output_type": "stream",
     "text": [
      "The 8th Fibonacci number is: 13\n"
     ]
    }
   ],
   "source": [
    "def fibonacci(n):\n",
    "    if n <= 0:\n",
    "        raise ValueError(\"Input should be a positive integer.\")\n",
    "    elif n == 1:\n",
    "        return 0\n",
    "    elif n == 2:\n",
    "        return 1\n",
    "    else:\n",
    "        return fibonacci(n - 1) + fibonacci(n - 2)\n",
    "\n",
    "# Test the fibonacci function\n",
    "n = int(input(\"Please enter no:\"))\n",
    "result = fibonacci(n)\n",
    "print(f\"The {n}th Fibonacci number is:\", result)"
   ]
  },
  {
   "cell_type": "markdown",
   "id": "845a1e67-7002-4d51-b5f1-bae6c4940a64",
   "metadata": {},
   "source": [
    "13. Create a recursive function to find the sum of all the elements in a given list."
   ]
  },
  {
   "cell_type": "code",
   "execution_count": 23,
   "id": "0898dedf-1e92-4348-a408-38c790373fb2",
   "metadata": {},
   "outputs": [
    {
     "name": "stdout",
     "output_type": "stream",
     "text": [
      "Sum of the elements in the list: 21\n"
     ]
    }
   ],
   "source": [
    "def recursive_sum(lst):\n",
    "    if not lst:\n",
    "        return 0\n",
    "    else:\n",
    "        return lst[0] + recursive_sum(lst[1:])\n",
    "\n",
    "# Test the recursive_sum function\n",
    "numbers = [1, 2, 3, 4, 5, 6]\n",
    "result = recursive_sum(numbers)\n",
    "print(\"Sum of the elements in the list:\", result)"
   ]
  },
  {
   "cell_type": "markdown",
   "id": "608f38ce-1edb-4bff-be3f-aad8dc608ff3",
   "metadata": {},
   "source": [
    "14. Write a recursive function to determine whether a given string is a palindrome."
   ]
  },
  {
   "cell_type": "code",
   "execution_count": 24,
   "id": "a3e3f6ed-6d3d-4f6f-91b1-ed16cb83de54",
   "metadata": {},
   "outputs": [
    {
     "name": "stdout",
     "output_type": "stream",
     "text": [
      "racecar is a palindrome: True\n",
      "hello is a palindrome: False\n"
     ]
    }
   ],
   "source": [
    "def is_palindrome(s):\n",
    "    if len(s) <= 1:\n",
    "        return True\n",
    "    else:\n",
    "        return s[0] == s[-1] and is_palindrome(s[1:-1])\n",
    "\n",
    "# Test the is_palindrome function\n",
    "word1 = \"racecar\"\n",
    "word2 = \"hello\"\n",
    "\n",
    "print(word1, \"is a palindrome:\", is_palindrome(word1))\n",
    "print(word2, \"is a palindrome:\", is_palindrome(word2))"
   ]
  },
  {
   "cell_type": "markdown",
   "id": "ced76b02-769e-47e0-bc0e-966df56162a0",
   "metadata": {},
   "source": [
    "15. Implement a recursive function to find the greatest common divisor (GCD) of two positive integers."
   ]
  }
 ],
 "metadata": {
  "kernelspec": {
   "display_name": "Python 3 (ipykernel)",
   "language": "python",
   "name": "python3"
  },
  "language_info": {
   "codemirror_mode": {
    "name": "ipython",
    "version": 3
   },
   "file_extension": ".py",
   "mimetype": "text/x-python",
   "name": "python",
   "nbconvert_exporter": "python",
   "pygments_lexer": "ipython3",
   "version": "3.10.6"
  }
 },
 "nbformat": 4,
 "nbformat_minor": 5
}
